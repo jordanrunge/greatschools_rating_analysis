{
 "cells": [
  {
   "cell_type": "code",
   "execution_count": 7,
   "metadata": {},
   "outputs": [],
   "source": [
    "import numpy as np\n",
    "import pandas as pd\n",
    "import seaborn as sns\n",
    "from matplotlib import pyplot as plt\n",
    "import re\n",
    "plt.style.use('ggplot')"
   ]
  },
  {
   "cell_type": "markdown",
   "metadata": {},
   "source": [
    "# TOC\n",
    "- Purpose\n",
    "- Aquisition of Data\n",
    "    - Great Schools Rating Data\n",
    "    - Student Test Score Data\n",
    "    - Income Data\n",
    "    - Demographic Data\n",
    "- Inspecting and Cleaning Data\n",
    "    - Great Schools\n",
    "    - Income Data\n",
    "    - Demographic Data\n",
    "- Combing Data and Prepaing for Analysis\n",
    "    - Great Schools and Income\n",
    "    - Great Schools, Income, and Demographics\n",
    "- Analysis\n",
    "- Conclusion\n"
   ]
  },
  {
   "cell_type": "markdown",
   "metadata": {},
   "source": [
    "# Purpose"
   ]
  },
  {
   "cell_type": "markdown",
   "metadata": {},
   "source": [
    "[GreatSchools](https://www.greatschools.org/) is the most popular ‘school ranking’ site for parents seeking information about public schools in the PK-12 space. Recently, GreatSchools has been criticized by education advocates for, “effectively penaliz[ing] schools that serve largely low-income students and those serving largely black and Hispanic students,” by giving these schools, “significantly lower ratings than schools serving more affluent and more white and Asian students [(source)](https://chalkbeat.org/posts/us/2019/12/05/greatschools-ratings-poverty-race-segregation-housing/).”\n",
    "\n",
    "While I'm unconvinced by this analysis that GreatSchools is responsible for adversely influencing property values, as a former educator that has spent the majority of his career working with low-income schools, I am interested to see what factors are correlated with Great Schools' ratings. So, I dug into their data to see what I could find."
   ]
  },
  {
   "cell_type": "markdown",
   "metadata": {},
   "source": [
    "# Acquisition"
   ]
  },
  {
   "cell_type": "markdown",
   "metadata": {},
   "source": [
    "## GreatSchools"
   ]
  },
  {
   "cell_type": "markdown",
   "metadata": {},
   "source": [
    "I chose to scrape the site https://www.greatschools.org/, a popular school ratings site, to acquire GreatSchools' rating out of 10 for all schools in New York State. In the process, I wanted to snag whatever else I could get from GreatSchools about each school they've rated.\n",
    "\n",
    "The site features multiple javascript ads that wouldn't allow me to use scrapy, so I had to write a Selieum script. Uncomment the code below to run the script.\n",
    "\n",
    "In the end, I was only able to scrape 131 of 589 pages of New York schools before my IP was banned, but all of the New York schools with a rating were included in my scrape. While I'd have love to gotten all pages, over 80% of the New York schools listed on the site are unrated, and of these unrated schools, most are private schools. I got what I needed for the analysis at hand."
   ]
  },
  {
   "cell_type": "code",
   "execution_count": 6,
   "metadata": {
    "scrolled": true
   },
   "outputs": [],
   "source": [
    "# from selenium import webdriver\n",
    "# from selenium.webdriver.common.by import By\n",
    "# from selenium.webdriver.support.ui import WebDriverWait\n",
    "# from selenium.webdriver.support import expected_conditions as EC\n",
    "# import csv\n",
    "# import re\n",
    "# import time\n",
    "\n",
    "\n",
    "# # establish a connection with chrome via my terminal\n",
    "# driver = webdriver.Chrome()\n",
    "\n",
    "# # go to greatschools.org\n",
    "# driver.get(\"https://www.greatschools.org/new-york/schools/?page=1\")\n",
    "\n",
    "# csv_file = open('great_schools_nys_NEW.csv', 'w', encoding='utf-8', newline='')\n",
    "# writer = csv.writer(csv_file)\n",
    "# # wait because the site is slow\n",
    "# # wait_loading = WebDriverWait(driver, 10)\n",
    "\n",
    "# # loop through all pages, there are 589\n",
    "# index = 1\n",
    "# while index < 590:\n",
    "#     try:\n",
    "#         print('\\n')\n",
    "#         print(\"Scraping Page number \" + str(index))\n",
    "#         print(\"+\"*48)\n",
    "#         index += 1\n",
    "       \n",
    "#         wait_rating = WebDriverWait(driver, 30)\n",
    "#         ratings = wait_rating.until(EC.presence_of_all_elements_located((By.XPATH,'//ol/li[@class=\" unsaved\"]')))\n",
    "        \n",
    "        \n",
    "#         for rating in ratings:\n",
    "#             rating_dict = {}\n",
    "#             time.sleep(1)\n",
    "\n",
    "#             try: \n",
    "#                 gs_rating = rating.find_element_by_xpath('.//*[contains(@class, \"circle-rating\")]').text\n",
    "#                 print(gs_rating)\n",
    "#             except:\n",
    "#                 gs_rating = rating.find_element_by_xpath('.//*[contains(@alt, \"Owl \")]').text\n",
    "#                 print(gs_rating)\n",
    "            \n",
    "#             try:\n",
    "#                 school_name = rating.find_element_by_xpath('.//a[@class=\"name\"]').text\n",
    "#                 print(school_name)\n",
    "#             except:\n",
    "#                 continue\n",
    "\n",
    "#             try:\n",
    "#                 school_address = rating.find_element_by_xpath('.//div[@class=\"address\"]').text\n",
    "#                 print(school_address)\n",
    "#             except:\n",
    "#                 continue\n",
    "\n",
    "#             try:\n",
    "#                 type_and_grades = rating.find_element_by_xpath('.//div/span[@class=\"open-sans_sb\"]').text\n",
    "#                 print(type_and_grades)\n",
    "#             except:\n",
    "#                 continue\n",
    "\n",
    "#             try:\n",
    "#                 total_students = rating.find_element_by_xpath('.//span/span[@class=\"open-sans_sb\"]').text\n",
    "#                 print(total_students)\n",
    "#                 print(\"-\"*12)\n",
    "#             except:\n",
    "#                 continue   \n",
    "            \n",
    "#             rating_dict['gs_rating'] = gs_rating\n",
    "#             rating_dict['school_name'] = school_name\n",
    "#             rating_dict['school_address'] = school_address\n",
    "#             rating_dict['type_and_grades'] = type_and_grades\n",
    "#             rating_dict['total_students'] = total_students\n",
    "\n",
    "#             writer.writerow(rating_dict.values())\n",
    "\n",
    "#          # need to scroll to the bottom of the page because the button is not in the current view yet.\n",
    "#         driver.execute_script(\"window.scrollTo(0, document.body.scrollHeight);\")\n",
    "#         time.sleep(.5)\n",
    "        \n",
    "#         wait_next = WebDriverWait(driver, 10)\n",
    "#         next_page = wait_next.until(EC.element_to_be_clickable((By.XPATH,'//*[contains(@class, \"anchor-button   anchor-button\")][last()]')))\n",
    "#         next_page.click()\n",
    "#         time.sleep(1)\n",
    "\n",
    "#     except Exception as e:\n",
    "#         print(e)\n",
    "#         csv_file.close()\n",
    "#         driver.close()\n",
    "#         break\n",
    "\n"
   ]
  },
  {
   "cell_type": "markdown",
   "metadata": {},
   "source": [
    "## Student Test Data"
   ]
  },
  {
   "cell_type": "markdown",
   "metadata": {},
   "source": [
    "Initially I had planned to merge the data I scraped from Great Schools with test score data that can be downloaded here, https://data.nysed.gov/downloads.php. I download middle school and regent test scores for all schools in NYS for two consecutive years so that I could clean this data and then match it, by school. However, once I did the clean up and tried to merge by school name, less than 25% of the school names matched between datasets, and there were no clear pattern that could be followed to do a quick clean up.\n",
    "\n",
    "I decided to scrap the idea of matching the GreatSchools data with test scores becuase of time constraints. This sent me on a number of detours while looking for other data that I could use to draw more intersting insights about Great Schools' ratings than I could if I were working only with my scraped data."
   ]
  },
  {
   "cell_type": "markdown",
   "metadata": {},
   "source": [
    "## Income Data"
   ]
  },
  {
   "cell_type": "markdown",
   "metadata": {},
   "source": [
    "The data I scraped from GreatSchools contained each school's address, including its zip code. Because I couldn't match the GreatSchools data with other test score data from New York State, I instead found a data set from the US Treasury that contained data about tax returns by zip code. The dataset can be downloaded here, https://www.irs.gov/statistics/soi-tax-stats-individual-income-tax-statistics-2017-zip-code-data-soi"
   ]
  },
  {
   "cell_type": "markdown",
   "metadata": {},
   "source": [
    "## Demographic Data"
   ]
  },
  {
   "cell_type": "markdown",
   "metadata": {},
   "source": [
    "I searched all corners of the internet for datasets that contained demographic info by zip code, but my efforts were in vain. The closest I got was using the API provided by the Census Bureau's American FactFinder site (example URL, don't call it...https://api.census.gov/data/2018/acs/acs5/profile?get=DP05_0037PE&for=zip%20code%20tabulation%20area:*&key=de1ebf40814b5be46e7920918d9c2c525c71bbd9)\n",
    "\n",
    "In theory I could write a Selenium script that could run a few thousand queries to the American FactFinder site, but I didn't feel that would be practical for me. Instead, I coughed up $10 to buy zipcode info about all New York State zip codes from, https://www.cdxtech.com/tools/bulk/demographics/download/"
   ]
  },
  {
   "cell_type": "markdown",
   "metadata": {},
   "source": [
    "# Inspection & Cleaning"
   ]
  },
  {
   "cell_type": "markdown",
   "metadata": {},
   "source": [
    "## GreatSchools\n",
    "The original cleaning was done in gs_sandbox.ipynb"
   ]
  },
  {
   "cell_type": "markdown",
   "metadata": {},
   "source": [
    "While pasting my Selenium script above, I accidently reran it, and my original GreatSchools data file was overwritten. Thankfully I saved the clean version of the data as a csv and used this when combining datasets in the steps below, but to show how I cleaned the original data, I've entered my code below."
   ]
  },
  {
   "cell_type": "code",
   "execution_count": 12,
   "metadata": {},
   "outputs": [],
   "source": [
    "gs_nys = pd.read_csv('great_schools_nys.csv') # No longer available"
   ]
  },
  {
   "cell_type": "code",
   "execution_count": null,
   "metadata": {},
   "outputs": [],
   "source": [
    "# Edited column headers\n",
    "gs_nys.columns=['rating','school', 'address', 'type', 'students']\n",
    "\n",
    "# Addresses were originally formated as street, city, zip\n",
    "# I broke these up into 3 separate columns and saved them as a new dataframe\n",
    "df_address = gs_nys['address'].apply(lambda x: pd.Series(str(x).split(',')))\n",
    "\n",
    "# There were a small number of schools' addresses that contained an out-place-comma\n",
    "# Inspected using the code below\n",
    "df_address.shape\n",
    "np.sum(df_address.isnull())\n",
    "\n",
    "# The last two columns in this dataframe represent rows that have mistakes in their address.\n",
    "# I renamed the columns and noted the columns that I would drop later on.\n",
    "df_address.columns=['street_address','city','state','zip','mistake1','mistake2']\n",
    "\n",
    "# Then I merged this dataframe with the original on their indices and saved it as a new dataframe.\n",
    "gs_nys2 = pd.merge(gs_nys, df_address, how='left', left_index=True, right_index=True)\n",
    "\n",
    "# I renamed the columns\n",
    "gs_nys2.columns = ['rating','school','address','type','students','street_address','city','state','zip','mis_address1','mis_address2']\n",
    "\n",
    "# Next, I repeated the process above for the column type, which originally combined the grades served\n",
    "# by the school with a string that stated whether the school is a district school or charter school.\n",
    "# These steps are summarized below.\n",
    "df_type = gs_nys2['type'].apply(lambda x: pd.Series(str(x).split(',')))\n",
    "df_type.shape\n",
    "np.sum(df_type.isnull())\n",
    "df_type.columns = ['school_type','grades','mis_type1','mis_type2','mis_type3']\n",
    "gs_nys3 = pd.merge(gs_nys2, df_type, how='left', left_index=True, right_index=True)\n",
    "gs_nys3.head()\n",
    "\n",
    "# I then repeated this process a third time for the column ratings, which originally was expressed\n",
    "# as a score/10. I wanted to remove the '/10' portion of the rating.\n",
    "df_rating = gs_nys3['rating'].apply(lambda x: pd.Series(str(x).split('/')))\n",
    "df_rating.shape\n",
    "np.sum(df_rating.isnull())\n",
    "df_rating.columns=['rating','tbd_out_of_ten']\n",
    "gs_nys4 = pd.merge(gs_nys3, df_rating, how='left', left_index=True, right_index=True)\n",
    "\n",
    "# Once each cell contained a single value, I dropped the columns I woudn't need.\n",
    "gs_nys5 = gs_nys4.drop(['tbd_rating', 'tbd_address', 'tbd_type', 'tbd_out_of_ten'], axis=1)\n",
    "\n",
    "# Next, I did some exploring of this dataframe to see which row was the first for a school\n",
    "# that wasn't rated. I then sliced this dataframe to include only schools with ratings. This \n",
    "# was then saved as a new dataframe, gs_nys6\n",
    "gs_nys6 = gs_nys5[0:4351]\n",
    "\n",
    "# Then I dropped more undneeded cells and did some more column title clean up\n",
    "gs_nys7 = gs_nys6.drop(['street_address','state','mis_address1', 'mis_address2', 'mis_type1', 'mis_type2', 'mis_type3'], axis=1)\n",
    "gs_nys7 = gs_nys7[['school','rating','type','students','grades','city','zip']]\n",
    "\n",
    "# Lastly, I saved this cleaned data to a new csv file. This was the smartest thing I did during this whole project.\n",
    "gs_nys7.to_csv('great_schools_nys_cleaned1.csv') "
   ]
  },
  {
   "cell_type": "markdown",
   "metadata": {},
   "source": [
    "## Income Data\n",
    "The original cleaning was done in income_sandbox.ipynb"
   ]
  },
  {
   "cell_type": "code",
   "execution_count": 8,
   "metadata": {},
   "outputs": [],
   "source": [
    "income = pd.read_csv('income_17_no_agi_classes.csv')"
   ]
  },
  {
   "cell_type": "code",
   "execution_count": 9,
   "metadata": {},
   "outputs": [
    {
     "data": {
      "text/plain": [
       "['NY']"
      ]
     },
     "execution_count": 9,
     "metadata": {},
     "output_type": "execute_result"
    }
   ],
   "source": [
    "# The original dataset included info for every zip code, but I only wanted those for NY.\n",
    "# I inspected the file and deleted the rows for any state other than NY.\n",
    "income.head()\n",
    "income.shape\n",
    "income_ny = income[income.values  == \"NY\"]\n",
    "list(income_ny['STATE'].unique())"
   ]
  },
  {
   "cell_type": "code",
   "execution_count": 10,
   "metadata": {},
   "outputs": [
    {
     "data": {
      "text/html": [
       "<div>\n",
       "<style scoped>\n",
       "    .dataframe tbody tr th:only-of-type {\n",
       "        vertical-align: middle;\n",
       "    }\n",
       "\n",
       "    .dataframe tbody tr th {\n",
       "        vertical-align: top;\n",
       "    }\n",
       "\n",
       "    .dataframe thead th {\n",
       "        text-align: right;\n",
       "    }\n",
       "</style>\n",
       "<table border=\"1\" class=\"dataframe\">\n",
       "  <thead>\n",
       "    <tr style=\"text-align: right;\">\n",
       "      <th></th>\n",
       "      <th>state</th>\n",
       "      <th>zipcode</th>\n",
       "      <th>returns</th>\n",
       "      <th>single_returns</th>\n",
       "      <th>joint_returns</th>\n",
       "      <th>hoh_returns</th>\n",
       "      <th>agi</th>\n",
       "      <th>total_income</th>\n",
       "      <th>educator_expense_amount</th>\n",
       "      <th>returns_itemized</th>\n",
       "      <th>charitable_contributions</th>\n",
       "    </tr>\n",
       "  </thead>\n",
       "  <tbody>\n",
       "    <tr>\n",
       "      <td>15954</td>\n",
       "      <td>NY</td>\n",
       "      <td>0</td>\n",
       "      <td>9580270.0</td>\n",
       "      <td>4940030.0</td>\n",
       "      <td>2950010.0</td>\n",
       "      <td>1479490.0</td>\n",
       "      <td>852298824.0</td>\n",
       "      <td>863210313.0</td>\n",
       "      <td>73091.0</td>\n",
       "      <td>3424170.0</td>\n",
       "      <td>18715647.0</td>\n",
       "    </tr>\n",
       "    <tr>\n",
       "      <td>15955</td>\n",
       "      <td>NY</td>\n",
       "      <td>10001</td>\n",
       "      <td>15340.0</td>\n",
       "      <td>11080.0</td>\n",
       "      <td>2700.0</td>\n",
       "      <td>1170.0</td>\n",
       "      <td>2785807.0</td>\n",
       "      <td>2820411.0</td>\n",
       "      <td>46.0</td>\n",
       "      <td>8190.0</td>\n",
       "      <td>55721.0</td>\n",
       "    </tr>\n",
       "    <tr>\n",
       "      <td>15956</td>\n",
       "      <td>NY</td>\n",
       "      <td>10002</td>\n",
       "      <td>42290.0</td>\n",
       "      <td>25770.0</td>\n",
       "      <td>10170.0</td>\n",
       "      <td>5480.0</td>\n",
       "      <td>2489499.0</td>\n",
       "      <td>2523419.0</td>\n",
       "      <td>118.0</td>\n",
       "      <td>10390.0</td>\n",
       "      <td>32728.0</td>\n",
       "    </tr>\n",
       "    <tr>\n",
       "      <td>15957</td>\n",
       "      <td>NY</td>\n",
       "      <td>10003</td>\n",
       "      <td>28950.0</td>\n",
       "      <td>22020.0</td>\n",
       "      <td>5340.0</td>\n",
       "      <td>870.0</td>\n",
       "      <td>8764798.0</td>\n",
       "      <td>8866747.0</td>\n",
       "      <td>81.0</td>\n",
       "      <td>18060.0</td>\n",
       "      <td>362239.0</td>\n",
       "    </tr>\n",
       "    <tr>\n",
       "      <td>15958</td>\n",
       "      <td>NY</td>\n",
       "      <td>10004</td>\n",
       "      <td>2450.0</td>\n",
       "      <td>1440.0</td>\n",
       "      <td>790.0</td>\n",
       "      <td>140.0</td>\n",
       "      <td>931468.0</td>\n",
       "      <td>943900.0</td>\n",
       "      <td>0.0</td>\n",
       "      <td>1690.0</td>\n",
       "      <td>18710.0</td>\n",
       "    </tr>\n",
       "  </tbody>\n",
       "</table>\n",
       "</div>"
      ],
      "text/plain": [
       "      state  zipcode    returns  single_returns  joint_returns  hoh_returns  \\\n",
       "15954    NY        0  9580270.0       4940030.0      2950010.0    1479490.0   \n",
       "15955    NY    10001    15340.0         11080.0         2700.0       1170.0   \n",
       "15956    NY    10002    42290.0         25770.0        10170.0       5480.0   \n",
       "15957    NY    10003    28950.0         22020.0         5340.0        870.0   \n",
       "15958    NY    10004     2450.0          1440.0          790.0        140.0   \n",
       "\n",
       "               agi  total_income  educator_expense_amount  returns_itemized  \\\n",
       "15954  852298824.0   863210313.0                  73091.0         3424170.0   \n",
       "15955    2785807.0     2820411.0                     46.0            8190.0   \n",
       "15956    2489499.0     2523419.0                    118.0           10390.0   \n",
       "15957    8764798.0     8866747.0                     81.0           18060.0   \n",
       "15958     931468.0      943900.0                      0.0            1690.0   \n",
       "\n",
       "       charitable_contributions  \n",
       "15954                18715647.0  \n",
       "15955                   55721.0  \n",
       "15956                   32728.0  \n",
       "15957                  362239.0  \n",
       "15958                   18710.0  "
      ]
     },
     "execution_count": 10,
     "metadata": {},
     "output_type": "execute_result"
    }
   ],
   "source": [
    "# I then needed to isolate the columns I wanted to keep. I referenced the IRS documentation\n",
    "# and changed the column names for the columns I wanted to keep from a reference code to a\n",
    "# descriptive name. Then, I dropped the unwanted columns.\n",
    "income_ny.columns.tolist()\n",
    "income_ny.columns = ['STATEFIPS', 'state', 'zipcode', 'DELETE', 'returns', 'single_returns', 'joint_returns',\\\n",
    "                     'hoh_returns', 'ELF', 'CPREP', 'PREP', 'DIR_DEP', 'N2', 'NUMDEP', 'TOTAL_VITA', 'VITA',\\\n",
    "                     'TCE', 'VITA_EIC', 'RAC', 'ELDERLY', 'agi', 'N02650', 'total_income', 'N00200', 'A00200',\\\n",
    "                     'N00300', 'A00300', 'N00600', 'A00600', 'N00650', 'A00650', 'N00700', 'A00700', 'N00900',\\\n",
    "                     'A00900', 'N01000', 'A01000', 'N01400', 'A01400', 'N01700', 'A01700', 'SCHF', 'N02300',\\\n",
    "                     'A02300', 'N02500', 'A02500', 'N26270', 'A26270', 'N02900', 'A02900', 'N03220',\\\n",
    "                     'educator_expense_amount', 'N03300', 'A03300', 'N03270', 'A03270', 'N03150', 'A03150',\\\n",
    "                     'N03210', 'A03210', 'N03230', 'A03230', 'N03240', 'A03240', 'returns_itemized', 'A04470',\\\n",
    "                     'A00101', 'N17000', 'A17000', 'N18425', 'A18425', 'N18450', 'A18450', 'N18500', 'A18500',\\\n",
    "                     'N18800', 'A18800', 'N18300', 'A18300', 'N19300', 'A19300', 'N19500', 'A19500', 'N19530',\\\n",
    "                     'A19530', 'N19550', 'A19550', 'N19570', 'A19570', 'N19700', 'charitable_contributions',\\\n",
    "                     'N20800', 'A20800', 'N20950', 'A20950', 'N04800', 'A04800', 'N05800', 'A05800', 'N09600',\\\n",
    "                     'A09600', 'N05780', 'A05780', 'N07100', 'A07100', 'N07300', 'A07300', 'N07180', 'A07180',\\\n",
    "                     'N07230', 'A07230', 'N07240', 'A07240', 'N07220', 'A07220', 'N07260', 'A07260', 'N09400',\\\n",
    "                     'A09400', 'N85770', 'A85770', 'N85775', 'A85775', 'N09750', 'A09750', 'N10600', 'A10600',\\\n",
    "                     'N59660', 'A59660', 'N59720', 'A59720', 'N11070', 'A11070', 'N10960', 'A10960', 'N11560',\\\n",
    "                     'A11560', 'N06500', 'A06500', 'N10300', 'A10300', 'N85530', 'A85530', 'N85300', 'A85300',\\\n",
    "                     'N11901', 'A11901', 'N11900', 'A11900', 'N11902', 'A11902', 'N12000', 'A12000']\n",
    "income_ny_2 = income_ny.drop(['STATEFIPS', 'DELETE', 'ELF', 'CPREP', 'PREP', 'DIR_DEP', 'N2', 'NUMDEP', 'TOTAL_VITA',\\\n",
    "                              'VITA', 'TCE', 'VITA_EIC', 'RAC', 'ELDERLY', 'N02650', 'N00200', 'A00200', 'N00300',\\\n",
    "                              'A00300', 'N00600', 'A00600', 'N00650', 'A00650', 'N00700', 'A00700', 'N00900',\\\n",
    "                              'A00900', 'N01000', 'A01000', 'N01400', 'A01400', 'N01700', 'A01700', 'SCHF',\\\n",
    "                              'N02300', 'A02300', 'N02500', 'A02500', 'N26270', 'A26270', 'N02900', 'A02900',\\\n",
    "                              'N03220', 'N03300', 'A03300', 'N03270', 'A03270', 'N03150', 'A03150', 'N03210',\\\n",
    "                              'A03210', 'N03230', 'A03230', 'N03240', 'A03240', 'A04470', 'A00101', 'N17000',\\\n",
    "                              'A17000', 'N18425', 'A18425', 'N18450', 'A18450', 'N18500', 'A18500', 'N18800',\\\n",
    "                              'A18800', 'N18300', 'A18300', 'N19300', 'A19300', 'N19500', 'A19500', 'N19530',\\\n",
    "                              'A19530', 'N19550', 'A19550', 'N19570', 'A19570', 'N19700', 'N20800', 'A20800',\\\n",
    "                              'N20950', 'A20950', 'N04800', 'A04800', 'N05800', 'A05800', 'N09600', 'A09600',\\\n",
    "                              'N05780', 'A05780', 'N07100', 'A07100', 'N07300', 'A07300', 'N07180', 'A07180',\\\n",
    "                              'N07230', 'A07230', 'N07240', 'A07240', 'N07220', 'A07220', 'N07260', 'A07260',\\\n",
    "                              'N09400', 'A09400', 'N85770', 'A85770', 'N85775', 'A85775', 'N09750', 'A09750',\\\n",
    "                              'N10600', 'A10600', 'N59660', 'A59660', 'N59720', 'A59720', 'N11070', 'A11070',\\\n",
    "                              'N10960', 'A10960', 'N11560', 'A11560', 'N06500', 'A06500', 'N10300', 'A10300',\\\n",
    "                              'N85530', 'A85530', 'N85300', 'A85300', 'N11901', 'A11901', 'N11900', 'A11900',\\\n",
    "                              'N11902', 'A11902', 'N12000', 'A12000'], axis=1)\n",
    "income_ny_2.head()"
   ]
  },
  {
   "cell_type": "code",
   "execution_count": null,
   "metadata": {},
   "outputs": [],
   "source": [
    "# Lastly, I saved this cleaned up dataset as a csv\n",
    "income_ny_2.to_csv('income_nys.csv')"
   ]
  },
  {
   "cell_type": "markdown",
   "metadata": {},
   "source": [
    "##  Demographic Data\n",
    "The original cleaning was done in playground.ipynb"
   ]
  },
  {
   "cell_type": "code",
   "execution_count": 11,
   "metadata": {},
   "outputs": [],
   "source": [
    "zip_demo = pd.read_csv('nys_zip_codes.csv')"
   ]
  },
  {
   "cell_type": "code",
   "execution_count": 12,
   "metadata": {},
   "outputs": [
    {
     "data": {
      "text/html": [
       "<div>\n",
       "<style scoped>\n",
       "    .dataframe tbody tr th:only-of-type {\n",
       "        vertical-align: middle;\n",
       "    }\n",
       "\n",
       "    .dataframe tbody tr th {\n",
       "        vertical-align: top;\n",
       "    }\n",
       "\n",
       "    .dataframe thead th {\n",
       "        text-align: right;\n",
       "    }\n",
       "</style>\n",
       "<table border=\"1\" class=\"dataframe\">\n",
       "  <thead>\n",
       "    <tr style=\"text-align: right;\">\n",
       "      <th></th>\n",
       "      <th>zip_demo</th>\n",
       "      <th>population</th>\n",
       "      <th>annual_business_payroll</th>\n",
       "      <th>median_age</th>\n",
       "      <th>households</th>\n",
       "      <th>income_per_household</th>\n",
       "      <th>asian</th>\n",
       "      <th>african_american</th>\n",
       "      <th>white</th>\n",
       "    </tr>\n",
       "  </thead>\n",
       "  <tbody>\n",
       "    <tr>\n",
       "      <td>0</td>\n",
       "      <td>00zip</td>\n",
       "      <td>NaN</td>\n",
       "      <td>NaN</td>\n",
       "      <td>NaN</td>\n",
       "      <td>NaN</td>\n",
       "      <td>NaN</td>\n",
       "      <td>NaN</td>\n",
       "      <td>NaN</td>\n",
       "      <td>NaN</td>\n",
       "    </tr>\n",
       "    <tr>\n",
       "      <td>1</td>\n",
       "      <td>10001</td>\n",
       "      <td>21102.0</td>\n",
       "      <td>9003675.0</td>\n",
       "      <td>35.4</td>\n",
       "      <td>11031.0</td>\n",
       "      <td>85221.0</td>\n",
       "      <td>3843.0</td>\n",
       "      <td>2227.0</td>\n",
       "      <td>14351.0</td>\n",
       "    </tr>\n",
       "    <tr>\n",
       "      <td>2</td>\n",
       "      <td>10002</td>\n",
       "      <td>81410.0</td>\n",
       "      <td>723242.0</td>\n",
       "      <td>39.7</td>\n",
       "      <td>32925.0</td>\n",
       "      <td>35449.0</td>\n",
       "      <td>38893.0</td>\n",
       "      <td>7851.0</td>\n",
       "      <td>27453.0</td>\n",
       "    </tr>\n",
       "    <tr>\n",
       "      <td>3</td>\n",
       "      <td>10003</td>\n",
       "      <td>56024.0</td>\n",
       "      <td>6918342.0</td>\n",
       "      <td>31.9</td>\n",
       "      <td>28559.0</td>\n",
       "      <td>104441.0</td>\n",
       "      <td>9180.0</td>\n",
       "      <td>2430.0</td>\n",
       "      <td>44362.0</td>\n",
       "    </tr>\n",
       "    <tr>\n",
       "      <td>4</td>\n",
       "      <td>10004</td>\n",
       "      <td>3089.0</td>\n",
       "      <td>5638373.0</td>\n",
       "      <td>32.3</td>\n",
       "      <td>1692.0</td>\n",
       "      <td>140450.0</td>\n",
       "      <td>732.0</td>\n",
       "      <td>131.0</td>\n",
       "      <td>2264.0</td>\n",
       "    </tr>\n",
       "  </tbody>\n",
       "</table>\n",
       "</div>"
      ],
      "text/plain": [
       "  zip_demo  population  annual_business_payroll  median_age  households  \\\n",
       "0    00zip         NaN                      NaN         NaN         NaN   \n",
       "1    10001     21102.0                9003675.0        35.4     11031.0   \n",
       "2    10002     81410.0                 723242.0        39.7     32925.0   \n",
       "3    10003     56024.0                6918342.0        31.9     28559.0   \n",
       "4    10004      3089.0                5638373.0        32.3      1692.0   \n",
       "\n",
       "   income_per_household    asian  african_american    white  \n",
       "0                   NaN      NaN               NaN      NaN  \n",
       "1               85221.0   3843.0            2227.0  14351.0  \n",
       "2               35449.0  38893.0            7851.0  27453.0  \n",
       "3              104441.0   9180.0            2430.0  44362.0  \n",
       "4              140450.0    732.0             131.0   2264.0  "
      ]
     },
     "execution_count": 12,
     "metadata": {},
     "output_type": "execute_result"
    }
   ],
   "source": [
    "# This was pretty clean, so I started by seeing which columns I wanted to keep.\n",
    "zip_demo.columns.to_list()\n",
    "\n",
    "# Then I created a new dataframe using only the columns I wanted to keep\n",
    "zip_demo_2 = zip_demo[['Your Entry','Population','Business Annual Payroll','Median Age','Households','Income Per Household',\\\n",
    "          'Asian Population','Black or African American Population',\\\n",
    "          'White Population']]\n",
    "\n",
    "# Lastly I renamed the column titles \n",
    "zip_demo_2.columns = ['zip_demo','population','annual_business_payroll','median_age','households',\\\n",
    "                     'income_per_household','asian','african_american','white']\n",
    "zip_demo_2.head()"
   ]
  },
  {
   "cell_type": "markdown",
   "metadata": {},
   "source": [
    "# Combining Datasets and Preparing for Analysis"
   ]
  },
  {
   "cell_type": "markdown",
   "metadata": {},
   "source": [
    "## GreatSchools and Income"
   ]
  },
  {
   "cell_type": "code",
   "execution_count": 13,
   "metadata": {},
   "outputs": [],
   "source": [
    "# First I loaded my clean GreatSchools and Income data\n",
    "gs_nys = pd.read_csv('great_schools_nys_cleaned1.csv')\n",
    "income_nys = pd.read_csv('income_nys.csv')"
   ]
  },
  {
   "cell_type": "code",
   "execution_count": 14,
   "metadata": {},
   "outputs": [],
   "source": [
    "# Unnamed columns in both dataframes are deleted\n",
    "gs_nys = gs_nys.drop(['Unnamed: 0'], axis=1)"
   ]
  },
  {
   "cell_type": "code",
   "execution_count": 15,
   "metadata": {},
   "outputs": [],
   "source": [
    "# Before merging the GreatSchools data with the Income data, I first needed to do\n",
    "# more clean up. First I had to remove white space that was in front of each zip code\n",
    "gs_nys['zip'] = gs_nys['zip'].str.strip()"
   ]
  },
  {
   "cell_type": "code",
   "execution_count": 16,
   "metadata": {
    "collapsed": true
   },
   "outputs": [
    {
     "name": "stderr",
     "output_type": "stream",
     "text": [
      "/opt/anaconda3/lib/python3.7/site-packages/ipykernel_launcher.py:4: SettingWithCopyWarning: \n",
      "A value is trying to be set on a copy of a slice from a DataFrame\n",
      "\n",
      "See the caveats in the documentation: http://pandas.pydata.org/pandas-docs/stable/user_guide/indexing.html#returning-a-view-versus-a-copy\n",
      "  after removing the cwd from sys.path.\n",
      "/opt/anaconda3/lib/python3.7/site-packages/ipykernel_launcher.py:5: SettingWithCopyWarning: \n",
      "A value is trying to be set on a copy of a slice from a DataFrame\n",
      "\n",
      "See the caveats in the documentation: http://pandas.pydata.org/pandas-docs/stable/user_guide/indexing.html#returning-a-view-versus-a-copy\n",
      "  \"\"\"\n",
      "/opt/anaconda3/lib/python3.7/site-packages/ipykernel_launcher.py:6: SettingWithCopyWarning: \n",
      "A value is trying to be set on a copy of a slice from a DataFrame\n",
      "\n",
      "See the caveats in the documentation: http://pandas.pydata.org/pandas-docs/stable/user_guide/indexing.html#returning-a-view-versus-a-copy\n",
      "  \n",
      "/opt/anaconda3/lib/python3.7/site-packages/ipykernel_launcher.py:7: SettingWithCopyWarning: \n",
      "A value is trying to be set on a copy of a slice from a DataFrame\n",
      "\n",
      "See the caveats in the documentation: http://pandas.pydata.org/pandas-docs/stable/user_guide/indexing.html#returning-a-view-versus-a-copy\n",
      "  import sys\n",
      "/opt/anaconda3/lib/python3.7/site-packages/ipykernel_launcher.py:9: SettingWithCopyWarning: \n",
      "A value is trying to be set on a copy of a slice from a DataFrame\n",
      "\n",
      "See the caveats in the documentation: http://pandas.pydata.org/pandas-docs/stable/user_guide/indexing.html#returning-a-view-versus-a-copy\n",
      "  if __name__ == '__main__':\n",
      "/opt/anaconda3/lib/python3.7/site-packages/ipykernel_launcher.py:10: SettingWithCopyWarning: \n",
      "A value is trying to be set on a copy of a slice from a DataFrame\n",
      "\n",
      "See the caveats in the documentation: http://pandas.pydata.org/pandas-docs/stable/user_guide/indexing.html#returning-a-view-versus-a-copy\n",
      "  # Remove the CWD from sys.path while we load stuff.\n"
     ]
    }
   ],
   "source": [
    "# Then, I needed to fix a few zip codes that hadn't been cleaned in my first pass at cleaning GreatSchools\n",
    "# I just corrected the zip codes for each school that had an error after looking up the zipcode in a Google search\n",
    "gs_nys[gs_nys['zip']  == \"NY\"]\n",
    "gs_nys['zip'][907]=11215\n",
    "gs_nys['zip'][1170]=10465\n",
    "gs_nys['zip'][2466]=11221\n",
    "gs_nys['zip'][2476]=11208\n",
    "gs_nys[gs_nys['zip']  == \"Bronx\"]\n",
    "gs_nys['zip'][1778]=10463\n",
    "gs_nys['zip'][2483]=10451"
   ]
  },
  {
   "cell_type": "code",
   "execution_count": 17,
   "metadata": {},
   "outputs": [
    {
     "data": {
      "text/plain": [
       "dtype('int64')"
      ]
     },
     "execution_count": 17,
     "metadata": {},
     "output_type": "execute_result"
    }
   ],
   "source": [
    "# Then I had to change the data type for zip in GreatSchools to an int so that it could be merged\n",
    "# on zip_code in my Income data set.\n",
    "gs_nys['zip'] = gs_nys['zip'].astype('int')\n",
    "gs_nys['zip'].dtype"
   ]
  },
  {
   "cell_type": "code",
   "execution_count": 18,
   "metadata": {},
   "outputs": [],
   "source": [
    "# I dropped the unneeded column leftover from income_nys that was added when the csv was read\n",
    "income_nys = income_nys.drop(['Unnamed: 0'], axis=1)"
   ]
  },
  {
   "cell_type": "code",
   "execution_count": 19,
   "metadata": {},
   "outputs": [
    {
     "data": {
      "text/html": [
       "<div>\n",
       "<style scoped>\n",
       "    .dataframe tbody tr th:only-of-type {\n",
       "        vertical-align: middle;\n",
       "    }\n",
       "\n",
       "    .dataframe tbody tr th {\n",
       "        vertical-align: top;\n",
       "    }\n",
       "\n",
       "    .dataframe thead th {\n",
       "        text-align: right;\n",
       "    }\n",
       "</style>\n",
       "<table border=\"1\" class=\"dataframe\">\n",
       "  <thead>\n",
       "    <tr style=\"text-align: right;\">\n",
       "      <th></th>\n",
       "      <th>school</th>\n",
       "      <th>rating</th>\n",
       "      <th>type</th>\n",
       "      <th>students</th>\n",
       "      <th>grades</th>\n",
       "      <th>city</th>\n",
       "      <th>zip</th>\n",
       "      <th>state</th>\n",
       "      <th>zipcode</th>\n",
       "      <th>returns</th>\n",
       "      <th>single_returns</th>\n",
       "      <th>joint_returns</th>\n",
       "      <th>hoh_returns</th>\n",
       "      <th>agi</th>\n",
       "      <th>total_income</th>\n",
       "      <th>educator_expense_amount</th>\n",
       "      <th>returns_itemized</th>\n",
       "      <th>charitable_contributions</th>\n",
       "    </tr>\n",
       "  </thead>\n",
       "  <tbody>\n",
       "    <tr>\n",
       "      <td>0</td>\n",
       "      <td>Garden City High School</td>\n",
       "      <td>10</td>\n",
       "      <td>Public district</td>\n",
       "      <td>1,165</td>\n",
       "      <td>9-12</td>\n",
       "      <td>Garden City</td>\n",
       "      <td>11530</td>\n",
       "      <td>NY</td>\n",
       "      <td>11530.0</td>\n",
       "      <td>14650.0</td>\n",
       "      <td>6910.0</td>\n",
       "      <td>6760.0</td>\n",
       "      <td>660.0</td>\n",
       "      <td>3809585.0</td>\n",
       "      <td>3866878.0</td>\n",
       "      <td>202.0</td>\n",
       "      <td>9500.0</td>\n",
       "      <td>118534.0</td>\n",
       "    </tr>\n",
       "    <tr>\n",
       "      <td>1</td>\n",
       "      <td>Saddle Rock School</td>\n",
       "      <td>10</td>\n",
       "      <td>Public district</td>\n",
       "      <td>558</td>\n",
       "      <td>K-5</td>\n",
       "      <td>Great Neck</td>\n",
       "      <td>11023</td>\n",
       "      <td>NY</td>\n",
       "      <td>11023.0</td>\n",
       "      <td>4090.0</td>\n",
       "      <td>1710.0</td>\n",
       "      <td>2050.0</td>\n",
       "      <td>240.0</td>\n",
       "      <td>804629.0</td>\n",
       "      <td>821801.0</td>\n",
       "      <td>31.0</td>\n",
       "      <td>2530.0</td>\n",
       "      <td>21324.0</td>\n",
       "    </tr>\n",
       "    <tr>\n",
       "      <td>2</td>\n",
       "      <td>Purchase School</td>\n",
       "      <td>10</td>\n",
       "      <td>Public district</td>\n",
       "      <td>315</td>\n",
       "      <td>K-5</td>\n",
       "      <td>Harrison</td>\n",
       "      <td>10577</td>\n",
       "      <td>NY</td>\n",
       "      <td>10577.0</td>\n",
       "      <td>1550.0</td>\n",
       "      <td>760.0</td>\n",
       "      <td>670.0</td>\n",
       "      <td>70.0</td>\n",
       "      <td>1529377.0</td>\n",
       "      <td>1542695.0</td>\n",
       "      <td>12.0</td>\n",
       "      <td>920.0</td>\n",
       "      <td>53692.0</td>\n",
       "    </tr>\n",
       "    <tr>\n",
       "      <td>3</td>\n",
       "      <td>Center Street School</td>\n",
       "      <td>10</td>\n",
       "      <td>Public district</td>\n",
       "      <td>489</td>\n",
       "      <td>K-5</td>\n",
       "      <td>Williston Park</td>\n",
       "      <td>11596</td>\n",
       "      <td>NY</td>\n",
       "      <td>11596.0</td>\n",
       "      <td>5470.0</td>\n",
       "      <td>2570.0</td>\n",
       "      <td>2450.0</td>\n",
       "      <td>330.0</td>\n",
       "      <td>693248.0</td>\n",
       "      <td>704030.0</td>\n",
       "      <td>87.0</td>\n",
       "      <td>3120.0</td>\n",
       "      <td>11744.0</td>\n",
       "    </tr>\n",
       "    <tr>\n",
       "      <td>4</td>\n",
       "      <td>Briarwood School</td>\n",
       "      <td>10</td>\n",
       "      <td>Public district</td>\n",
       "      <td>170</td>\n",
       "      <td>K-3</td>\n",
       "      <td>Irondequoit</td>\n",
       "      <td>14617</td>\n",
       "      <td>NY</td>\n",
       "      <td>14617.0</td>\n",
       "      <td>12300.0</td>\n",
       "      <td>6200.0</td>\n",
       "      <td>4590.0</td>\n",
       "      <td>1250.0</td>\n",
       "      <td>782001.0</td>\n",
       "      <td>793421.0</td>\n",
       "      <td>184.0</td>\n",
       "      <td>5030.0</td>\n",
       "      <td>13588.0</td>\n",
       "    </tr>\n",
       "  </tbody>\n",
       "</table>\n",
       "</div>"
      ],
      "text/plain": [
       "                    school  rating             type students grades  \\\n",
       "0  Garden City High School      10  Public district    1,165   9-12   \n",
       "1       Saddle Rock School      10  Public district      558    K-5   \n",
       "2          Purchase School      10  Public district      315    K-5   \n",
       "3     Center Street School      10  Public district      489    K-5   \n",
       "4         Briarwood School      10  Public district      170    K-3   \n",
       "\n",
       "              city    zip state  zipcode  returns  single_returns  \\\n",
       "0      Garden City  11530    NY  11530.0  14650.0          6910.0   \n",
       "1       Great Neck  11023    NY  11023.0   4090.0          1710.0   \n",
       "2         Harrison  10577    NY  10577.0   1550.0           760.0   \n",
       "3   Williston Park  11596    NY  11596.0   5470.0          2570.0   \n",
       "4      Irondequoit  14617    NY  14617.0  12300.0          6200.0   \n",
       "\n",
       "   joint_returns  hoh_returns        agi  total_income  \\\n",
       "0         6760.0        660.0  3809585.0     3866878.0   \n",
       "1         2050.0        240.0   804629.0      821801.0   \n",
       "2          670.0         70.0  1529377.0     1542695.0   \n",
       "3         2450.0        330.0   693248.0      704030.0   \n",
       "4         4590.0       1250.0   782001.0      793421.0   \n",
       "\n",
       "   educator_expense_amount  returns_itemized  charitable_contributions  \n",
       "0                    202.0            9500.0                  118534.0  \n",
       "1                     31.0            2530.0                   21324.0  \n",
       "2                     12.0             920.0                   53692.0  \n",
       "3                     87.0            3120.0                   11744.0  \n",
       "4                    184.0            5030.0                   13588.0  "
      ]
     },
     "execution_count": 19,
     "metadata": {},
     "output_type": "execute_result"
    }
   ],
   "source": [
    "# Then I merged GreatSchools and Income and saved it as a new dataframe\n",
    "gs_income = pd.merge(gs_nys, income_nys, how='left', left_on='zip', right_on='zipcode')\n",
    "gs_income.head()"
   ]
  },
  {
   "cell_type": "code",
   "execution_count": 45,
   "metadata": {},
   "outputs": [],
   "source": [
    "# I then saved and exported this combined dataset as a csv\n",
    "gs_income.to_csv('gs_income.csv')"
   ]
  },
  {
   "cell_type": "code",
   "execution_count": 20,
   "metadata": {
    "collapsed": true
   },
   "outputs": [
    {
     "data": {
      "text/plain": [
       "school                       object\n",
       "rating                        int64\n",
       "type                         object\n",
       "students                      int64\n",
       "grades                       object\n",
       "city                         object\n",
       "zip                           int64\n",
       "state                        object\n",
       "zipcode                     float64\n",
       "returns                     float64\n",
       "single_returns              float64\n",
       "joint_returns               float64\n",
       "hoh_returns                 float64\n",
       "agi                         float64\n",
       "total_income                float64\n",
       "educator_expense_amount     float64\n",
       "returns_itemized            float64\n",
       "charitable_contributions    float64\n",
       "dtype: object"
      ]
     },
     "execution_count": 20,
     "metadata": {},
     "output_type": "execute_result"
    }
   ],
   "source": [
    "# Next, I cleaned up the column students from a string with a comma to separate\n",
    "# hundreds and thousands to an integer\n",
    "x = []\n",
    "for i in gs_income['students']:\n",
    "    x.append(i)\n",
    "\n",
    "x = pd.Series(x)\n",
    "x = x.str.replace(',', '')\n",
    "x = x.astype(int)\n",
    "gs_income['students'] = x\n",
    "gs_income.dtypes"
   ]
  },
  {
   "cell_type": "code",
   "execution_count": 21,
   "metadata": {},
   "outputs": [
    {
     "data": {
      "text/html": [
       "<div>\n",
       "<style scoped>\n",
       "    .dataframe tbody tr th:only-of-type {\n",
       "        vertical-align: middle;\n",
       "    }\n",
       "\n",
       "    .dataframe tbody tr th {\n",
       "        vertical-align: top;\n",
       "    }\n",
       "\n",
       "    .dataframe thead th {\n",
       "        text-align: right;\n",
       "    }\n",
       "</style>\n",
       "<table border=\"1\" class=\"dataframe\">\n",
       "  <thead>\n",
       "    <tr style=\"text-align: right;\">\n",
       "      <th></th>\n",
       "      <th>school</th>\n",
       "      <th>rating</th>\n",
       "      <th>type</th>\n",
       "      <th>students</th>\n",
       "      <th>grades</th>\n",
       "      <th>city</th>\n",
       "      <th>zip</th>\n",
       "      <th>state</th>\n",
       "      <th>returns</th>\n",
       "      <th>single_returns</th>\n",
       "      <th>joint_returns</th>\n",
       "      <th>agi</th>\n",
       "      <th>total_income</th>\n",
       "      <th>returns_itemized</th>\n",
       "      <th>per_single</th>\n",
       "      <th>per_joint</th>\n",
       "      <th>income_per_return</th>\n",
       "      <th>agi_per_return</th>\n",
       "    </tr>\n",
       "  </thead>\n",
       "  <tbody>\n",
       "    <tr>\n",
       "      <td>0</td>\n",
       "      <td>Garden City High School</td>\n",
       "      <td>10</td>\n",
       "      <td>Public district</td>\n",
       "      <td>1165</td>\n",
       "      <td>9-12</td>\n",
       "      <td>Garden City</td>\n",
       "      <td>11530</td>\n",
       "      <td>NY</td>\n",
       "      <td>14650.0</td>\n",
       "      <td>6910.0</td>\n",
       "      <td>6760.0</td>\n",
       "      <td>3809585.0</td>\n",
       "      <td>3866878.0</td>\n",
       "      <td>9500.0</td>\n",
       "      <td>0.471672</td>\n",
       "      <td>0.461433</td>\n",
       "      <td>263.950717</td>\n",
       "      <td>260.039932</td>\n",
       "    </tr>\n",
       "    <tr>\n",
       "      <td>1</td>\n",
       "      <td>Saddle Rock School</td>\n",
       "      <td>10</td>\n",
       "      <td>Public district</td>\n",
       "      <td>558</td>\n",
       "      <td>K-5</td>\n",
       "      <td>Great Neck</td>\n",
       "      <td>11023</td>\n",
       "      <td>NY</td>\n",
       "      <td>4090.0</td>\n",
       "      <td>1710.0</td>\n",
       "      <td>2050.0</td>\n",
       "      <td>804629.0</td>\n",
       "      <td>821801.0</td>\n",
       "      <td>2530.0</td>\n",
       "      <td>0.418093</td>\n",
       "      <td>0.501222</td>\n",
       "      <td>200.929340</td>\n",
       "      <td>196.730807</td>\n",
       "    </tr>\n",
       "    <tr>\n",
       "      <td>2</td>\n",
       "      <td>Purchase School</td>\n",
       "      <td>10</td>\n",
       "      <td>Public district</td>\n",
       "      <td>315</td>\n",
       "      <td>K-5</td>\n",
       "      <td>Harrison</td>\n",
       "      <td>10577</td>\n",
       "      <td>NY</td>\n",
       "      <td>1550.0</td>\n",
       "      <td>760.0</td>\n",
       "      <td>670.0</td>\n",
       "      <td>1529377.0</td>\n",
       "      <td>1542695.0</td>\n",
       "      <td>920.0</td>\n",
       "      <td>0.490323</td>\n",
       "      <td>0.432258</td>\n",
       "      <td>995.287097</td>\n",
       "      <td>986.694839</td>\n",
       "    </tr>\n",
       "    <tr>\n",
       "      <td>3</td>\n",
       "      <td>Center Street School</td>\n",
       "      <td>10</td>\n",
       "      <td>Public district</td>\n",
       "      <td>489</td>\n",
       "      <td>K-5</td>\n",
       "      <td>Williston Park</td>\n",
       "      <td>11596</td>\n",
       "      <td>NY</td>\n",
       "      <td>5470.0</td>\n",
       "      <td>2570.0</td>\n",
       "      <td>2450.0</td>\n",
       "      <td>693248.0</td>\n",
       "      <td>704030.0</td>\n",
       "      <td>3120.0</td>\n",
       "      <td>0.469835</td>\n",
       "      <td>0.447898</td>\n",
       "      <td>128.707495</td>\n",
       "      <td>126.736380</td>\n",
       "    </tr>\n",
       "    <tr>\n",
       "      <td>4</td>\n",
       "      <td>Briarwood School</td>\n",
       "      <td>10</td>\n",
       "      <td>Public district</td>\n",
       "      <td>170</td>\n",
       "      <td>K-3</td>\n",
       "      <td>Irondequoit</td>\n",
       "      <td>14617</td>\n",
       "      <td>NY</td>\n",
       "      <td>12300.0</td>\n",
       "      <td>6200.0</td>\n",
       "      <td>4590.0</td>\n",
       "      <td>782001.0</td>\n",
       "      <td>793421.0</td>\n",
       "      <td>5030.0</td>\n",
       "      <td>0.504065</td>\n",
       "      <td>0.373171</td>\n",
       "      <td>64.505772</td>\n",
       "      <td>63.577317</td>\n",
       "    </tr>\n",
       "  </tbody>\n",
       "</table>\n",
       "</div>"
      ],
      "text/plain": [
       "                    school  rating             type  students grades  \\\n",
       "0  Garden City High School      10  Public district      1165   9-12   \n",
       "1       Saddle Rock School      10  Public district       558    K-5   \n",
       "2          Purchase School      10  Public district       315    K-5   \n",
       "3     Center Street School      10  Public district       489    K-5   \n",
       "4         Briarwood School      10  Public district       170    K-3   \n",
       "\n",
       "              city    zip state  returns  single_returns  joint_returns  \\\n",
       "0      Garden City  11530    NY  14650.0          6910.0         6760.0   \n",
       "1       Great Neck  11023    NY   4090.0          1710.0         2050.0   \n",
       "2         Harrison  10577    NY   1550.0           760.0          670.0   \n",
       "3   Williston Park  11596    NY   5470.0          2570.0         2450.0   \n",
       "4      Irondequoit  14617    NY  12300.0          6200.0         4590.0   \n",
       "\n",
       "         agi  total_income  returns_itemized  per_single  per_joint  \\\n",
       "0  3809585.0     3866878.0            9500.0    0.471672   0.461433   \n",
       "1   804629.0      821801.0            2530.0    0.418093   0.501222   \n",
       "2  1529377.0     1542695.0             920.0    0.490323   0.432258   \n",
       "3   693248.0      704030.0            3120.0    0.469835   0.447898   \n",
       "4   782001.0      793421.0            5030.0    0.504065   0.373171   \n",
       "\n",
       "   income_per_return  agi_per_return  \n",
       "0         263.950717      260.039932  \n",
       "1         200.929340      196.730807  \n",
       "2         995.287097      986.694839  \n",
       "3         128.707495      126.736380  \n",
       "4          64.505772       63.577317  "
      ]
     },
     "execution_count": 21,
     "metadata": {},
     "output_type": "execute_result"
    }
   ],
   "source": [
    "# Then I added a number of columns for analysis\n",
    "\n",
    "# Added columns to represent % single vs joint returns\n",
    "# Acts as a proxy for students in single or dual parent households\n",
    "gs_income['per_single']=gs_income['single_returns']/gs_income['returns']\n",
    "gs_income['per_joint']=gs_income['joint_returns']/gs_income['returns']\n",
    "\n",
    "# Added columns to represent average income and agi per each tax return by county\n",
    "gs_income['income_per_return'] = gs_income['total_income']/gs_income['returns']\n",
    "gs_income['agi_per_return'] = gs_income['agi']/gs_income['returns']\n",
    "\n",
    "# Dropped unneeded columns\n",
    "gs_income = gs_income.drop(['zipcode', 'hoh_returns',  'educator_expense_amount', 'charitable_contributions'],axis=1)\n",
    "gs_income.head()"
   ]
  },
  {
   "cell_type": "markdown",
   "metadata": {},
   "source": [
    "## GreatSchools, Income, and Demographic\n",
    "The original merging was done in playground.ipynb"
   ]
  },
  {
   "cell_type": "code",
   "execution_count": 22,
   "metadata": {},
   "outputs": [],
   "source": [
    "# I dropped the first row of the Demographic dataframe\n",
    "zip_demo_2 = zip_demo_2.drop(0)"
   ]
  },
  {
   "cell_type": "code",
   "execution_count": 23,
   "metadata": {},
   "outputs": [
    {
     "data": {
      "text/html": [
       "<div>\n",
       "<style scoped>\n",
       "    .dataframe tbody tr th:only-of-type {\n",
       "        vertical-align: middle;\n",
       "    }\n",
       "\n",
       "    .dataframe tbody tr th {\n",
       "        vertical-align: top;\n",
       "    }\n",
       "\n",
       "    .dataframe thead th {\n",
       "        text-align: right;\n",
       "    }\n",
       "</style>\n",
       "<table border=\"1\" class=\"dataframe\">\n",
       "  <thead>\n",
       "    <tr style=\"text-align: right;\">\n",
       "      <th></th>\n",
       "      <th>zip_demo</th>\n",
       "      <th>population</th>\n",
       "      <th>annual_business_payroll</th>\n",
       "      <th>median_age</th>\n",
       "      <th>households</th>\n",
       "      <th>income_per_household</th>\n",
       "      <th>asian</th>\n",
       "      <th>african_american</th>\n",
       "      <th>white</th>\n",
       "      <th>per_asian</th>\n",
       "      <th>per_african_american</th>\n",
       "      <th>per_white</th>\n",
       "      <th>per_non_white</th>\n",
       "    </tr>\n",
       "  </thead>\n",
       "  <tbody>\n",
       "    <tr>\n",
       "      <td>1</td>\n",
       "      <td>10001</td>\n",
       "      <td>21102.0</td>\n",
       "      <td>9003675.0</td>\n",
       "      <td>35.4</td>\n",
       "      <td>11031.0</td>\n",
       "      <td>85221.0</td>\n",
       "      <td>3843.0</td>\n",
       "      <td>2227.0</td>\n",
       "      <td>14351.0</td>\n",
       "      <td>0.182115</td>\n",
       "      <td>0.105535</td>\n",
       "      <td>0.680078</td>\n",
       "      <td>0.319922</td>\n",
       "    </tr>\n",
       "    <tr>\n",
       "      <td>2</td>\n",
       "      <td>10002</td>\n",
       "      <td>81410.0</td>\n",
       "      <td>723242.0</td>\n",
       "      <td>39.7</td>\n",
       "      <td>32925.0</td>\n",
       "      <td>35449.0</td>\n",
       "      <td>38893.0</td>\n",
       "      <td>7851.0</td>\n",
       "      <td>27453.0</td>\n",
       "      <td>0.477742</td>\n",
       "      <td>0.096438</td>\n",
       "      <td>0.337219</td>\n",
       "      <td>0.662781</td>\n",
       "    </tr>\n",
       "    <tr>\n",
       "      <td>3</td>\n",
       "      <td>10003</td>\n",
       "      <td>56024.0</td>\n",
       "      <td>6918342.0</td>\n",
       "      <td>31.9</td>\n",
       "      <td>28559.0</td>\n",
       "      <td>104441.0</td>\n",
       "      <td>9180.0</td>\n",
       "      <td>2430.0</td>\n",
       "      <td>44362.0</td>\n",
       "      <td>0.163858</td>\n",
       "      <td>0.043374</td>\n",
       "      <td>0.791839</td>\n",
       "      <td>0.208161</td>\n",
       "    </tr>\n",
       "    <tr>\n",
       "      <td>4</td>\n",
       "      <td>10004</td>\n",
       "      <td>3089.0</td>\n",
       "      <td>5638373.0</td>\n",
       "      <td>32.3</td>\n",
       "      <td>1692.0</td>\n",
       "      <td>140450.0</td>\n",
       "      <td>732.0</td>\n",
       "      <td>131.0</td>\n",
       "      <td>2264.0</td>\n",
       "      <td>0.236970</td>\n",
       "      <td>0.042409</td>\n",
       "      <td>0.732923</td>\n",
       "      <td>0.267077</td>\n",
       "    </tr>\n",
       "    <tr>\n",
       "      <td>5</td>\n",
       "      <td>10006</td>\n",
       "      <td>3011.0</td>\n",
       "      <td>2322344.0</td>\n",
       "      <td>29.2</td>\n",
       "      <td>1791.0</td>\n",
       "      <td>145893.0</td>\n",
       "      <td>648.0</td>\n",
       "      <td>167.0</td>\n",
       "      <td>2165.0</td>\n",
       "      <td>0.215211</td>\n",
       "      <td>0.055463</td>\n",
       "      <td>0.719030</td>\n",
       "      <td>0.280970</td>\n",
       "    </tr>\n",
       "  </tbody>\n",
       "</table>\n",
       "</div>"
      ],
      "text/plain": [
       "  zip_demo  population  annual_business_payroll  median_age  households  \\\n",
       "1    10001     21102.0                9003675.0        35.4     11031.0   \n",
       "2    10002     81410.0                 723242.0        39.7     32925.0   \n",
       "3    10003     56024.0                6918342.0        31.9     28559.0   \n",
       "4    10004      3089.0                5638373.0        32.3      1692.0   \n",
       "5    10006      3011.0                2322344.0        29.2      1791.0   \n",
       "\n",
       "   income_per_household    asian  african_american    white  per_asian  \\\n",
       "1               85221.0   3843.0            2227.0  14351.0   0.182115   \n",
       "2               35449.0  38893.0            7851.0  27453.0   0.477742   \n",
       "3              104441.0   9180.0            2430.0  44362.0   0.163858   \n",
       "4              140450.0    732.0             131.0   2264.0   0.236970   \n",
       "5              145893.0    648.0             167.0   2165.0   0.215211   \n",
       "\n",
       "   per_african_american  per_white  per_non_white  \n",
       "1              0.105535   0.680078       0.319922  \n",
       "2              0.096438   0.337219       0.662781  \n",
       "3              0.043374   0.791839       0.208161  \n",
       "4              0.042409   0.732923       0.267077  \n",
       "5              0.055463   0.719030       0.280970  "
      ]
     },
     "execution_count": 23,
     "metadata": {},
     "output_type": "execute_result"
    }
   ],
   "source": [
    "# I then added dded columns to represent % of population grouped by race\n",
    "zip_demo_2['per_asian'] = zip_demo_2['asian']/zip_demo_2['population']\n",
    "zip_demo_2['per_african_american'] = zip_demo_2['african_american']/zip_demo_2['population']\n",
    "zip_demo_2['per_white'] = zip_demo_2['white']/zip_demo_2['population']\n",
    "zip_demo_2['per_non_white'] = (zip_demo_2['population']-zip_demo_2['white'])/zip_demo_2['population']\n",
    "zip_demo_2.head()"
   ]
  },
  {
   "cell_type": "code",
   "execution_count": 24,
   "metadata": {
    "collapsed": true
   },
   "outputs": [
    {
     "data": {
      "text/plain": [
       "zip_demo                     int64\n",
       "population                 float64\n",
       "annual_business_payroll    float64\n",
       "median_age                 float64\n",
       "households                 float64\n",
       "income_per_household       float64\n",
       "asian                      float64\n",
       "african_american           float64\n",
       "white                      float64\n",
       "per_asian                  float64\n",
       "per_african_american       float64\n",
       "per_white                  float64\n",
       "per_non_white              float64\n",
       "dtype: object"
      ]
     },
     "execution_count": 24,
     "metadata": {},
     "output_type": "execute_result"
    }
   ],
   "source": [
    "# Then I needed to change the data type of the values in the column zip_demo from an 'object' to\n",
    "# an int so that I could merge them on the zip column of gs_income\n",
    "zip_demo_2['zip_demo'] = zip_demo_2['zip_demo'].astype(int)\n",
    "zip_demo_2.dtypes"
   ]
  },
  {
   "cell_type": "code",
   "execution_count": 25,
   "metadata": {
    "collapsed": true
   },
   "outputs": [
    {
     "data": {
      "text/html": [
       "<div>\n",
       "<style scoped>\n",
       "    .dataframe tbody tr th:only-of-type {\n",
       "        vertical-align: middle;\n",
       "    }\n",
       "\n",
       "    .dataframe tbody tr th {\n",
       "        vertical-align: top;\n",
       "    }\n",
       "\n",
       "    .dataframe thead th {\n",
       "        text-align: right;\n",
       "    }\n",
       "</style>\n",
       "<table border=\"1\" class=\"dataframe\">\n",
       "  <thead>\n",
       "    <tr style=\"text-align: right;\">\n",
       "      <th></th>\n",
       "      <th>school</th>\n",
       "      <th>rating</th>\n",
       "      <th>type</th>\n",
       "      <th>students</th>\n",
       "      <th>grades</th>\n",
       "      <th>city</th>\n",
       "      <th>zip</th>\n",
       "      <th>state</th>\n",
       "      <th>returns</th>\n",
       "      <th>single_returns</th>\n",
       "      <th>...</th>\n",
       "      <th>median_age</th>\n",
       "      <th>households</th>\n",
       "      <th>income_per_household</th>\n",
       "      <th>asian</th>\n",
       "      <th>african_american</th>\n",
       "      <th>white</th>\n",
       "      <th>per_asian</th>\n",
       "      <th>per_african_american</th>\n",
       "      <th>per_white</th>\n",
       "      <th>per_non_white</th>\n",
       "    </tr>\n",
       "  </thead>\n",
       "  <tbody>\n",
       "    <tr>\n",
       "      <td>0</td>\n",
       "      <td>Garden City High School</td>\n",
       "      <td>10</td>\n",
       "      <td>Public district</td>\n",
       "      <td>1165</td>\n",
       "      <td>9-12</td>\n",
       "      <td>Garden City</td>\n",
       "      <td>11530</td>\n",
       "      <td>NY</td>\n",
       "      <td>14650.0</td>\n",
       "      <td>6910.0</td>\n",
       "      <td>...</td>\n",
       "      <td>42.3</td>\n",
       "      <td>9111.0</td>\n",
       "      <td>151809.0</td>\n",
       "      <td>1184.0</td>\n",
       "      <td>524.0</td>\n",
       "      <td>25489.0</td>\n",
       "      <td>0.043413</td>\n",
       "      <td>0.019213</td>\n",
       "      <td>0.934587</td>\n",
       "      <td>0.065413</td>\n",
       "    </tr>\n",
       "    <tr>\n",
       "      <td>1</td>\n",
       "      <td>Saddle Rock School</td>\n",
       "      <td>10</td>\n",
       "      <td>Public district</td>\n",
       "      <td>558</td>\n",
       "      <td>K-5</td>\n",
       "      <td>Great Neck</td>\n",
       "      <td>11023</td>\n",
       "      <td>NY</td>\n",
       "      <td>4090.0</td>\n",
       "      <td>1710.0</td>\n",
       "      <td>...</td>\n",
       "      <td>42.7</td>\n",
       "      <td>3130.0</td>\n",
       "      <td>111607.0</td>\n",
       "      <td>892.0</td>\n",
       "      <td>115.0</td>\n",
       "      <td>8171.0</td>\n",
       "      <td>0.098815</td>\n",
       "      <td>0.012740</td>\n",
       "      <td>0.905173</td>\n",
       "      <td>0.094827</td>\n",
       "    </tr>\n",
       "    <tr>\n",
       "      <td>2</td>\n",
       "      <td>Purchase School</td>\n",
       "      <td>10</td>\n",
       "      <td>Public district</td>\n",
       "      <td>315</td>\n",
       "      <td>K-5</td>\n",
       "      <td>Harrison</td>\n",
       "      <td>10577</td>\n",
       "      <td>NY</td>\n",
       "      <td>1550.0</td>\n",
       "      <td>760.0</td>\n",
       "      <td>...</td>\n",
       "      <td>20.9</td>\n",
       "      <td>776.0</td>\n",
       "      <td>213173.0</td>\n",
       "      <td>656.0</td>\n",
       "      <td>538.0</td>\n",
       "      <td>5263.0</td>\n",
       "      <td>0.100122</td>\n",
       "      <td>0.082112</td>\n",
       "      <td>0.803266</td>\n",
       "      <td>0.196734</td>\n",
       "    </tr>\n",
       "    <tr>\n",
       "      <td>3</td>\n",
       "      <td>Center Street School</td>\n",
       "      <td>10</td>\n",
       "      <td>Public district</td>\n",
       "      <td>489</td>\n",
       "      <td>K-5</td>\n",
       "      <td>Williston Park</td>\n",
       "      <td>11596</td>\n",
       "      <td>NY</td>\n",
       "      <td>5470.0</td>\n",
       "      <td>2570.0</td>\n",
       "      <td>...</td>\n",
       "      <td>42.9</td>\n",
       "      <td>3676.0</td>\n",
       "      <td>116250.0</td>\n",
       "      <td>1483.0</td>\n",
       "      <td>98.0</td>\n",
       "      <td>8876.0</td>\n",
       "      <td>0.141508</td>\n",
       "      <td>0.009351</td>\n",
       "      <td>0.846947</td>\n",
       "      <td>0.153053</td>\n",
       "    </tr>\n",
       "    <tr>\n",
       "      <td>4</td>\n",
       "      <td>Briarwood School</td>\n",
       "      <td>10</td>\n",
       "      <td>Public district</td>\n",
       "      <td>170</td>\n",
       "      <td>K-3</td>\n",
       "      <td>Irondequoit</td>\n",
       "      <td>14617</td>\n",
       "      <td>NY</td>\n",
       "      <td>12300.0</td>\n",
       "      <td>6200.0</td>\n",
       "      <td>...</td>\n",
       "      <td>43.9</td>\n",
       "      <td>9502.0</td>\n",
       "      <td>64589.0</td>\n",
       "      <td>390.0</td>\n",
       "      <td>1064.0</td>\n",
       "      <td>21312.0</td>\n",
       "      <td>0.017114</td>\n",
       "      <td>0.046689</td>\n",
       "      <td>0.935188</td>\n",
       "      <td>0.064812</td>\n",
       "    </tr>\n",
       "    <tr>\n",
       "      <td>...</td>\n",
       "      <td>...</td>\n",
       "      <td>...</td>\n",
       "      <td>...</td>\n",
       "      <td>...</td>\n",
       "      <td>...</td>\n",
       "      <td>...</td>\n",
       "      <td>...</td>\n",
       "      <td>...</td>\n",
       "      <td>...</td>\n",
       "      <td>...</td>\n",
       "      <td>...</td>\n",
       "      <td>...</td>\n",
       "      <td>...</td>\n",
       "      <td>...</td>\n",
       "      <td>...</td>\n",
       "      <td>...</td>\n",
       "      <td>...</td>\n",
       "      <td>...</td>\n",
       "      <td>...</td>\n",
       "      <td>...</td>\n",
       "      <td>...</td>\n",
       "    </tr>\n",
       "    <tr>\n",
       "      <td>4346</td>\n",
       "      <td>Ps 84</td>\n",
       "      <td>1</td>\n",
       "      <td>Public district</td>\n",
       "      <td>199</td>\n",
       "      <td>Ungraded</td>\n",
       "      <td>Buffalo</td>\n",
       "      <td>14215</td>\n",
       "      <td>NY</td>\n",
       "      <td>16760.0</td>\n",
       "      <td>8480.0</td>\n",
       "      <td>...</td>\n",
       "      <td>31.5</td>\n",
       "      <td>15778.0</td>\n",
       "      <td>35160.0</td>\n",
       "      <td>682.0</td>\n",
       "      <td>33009.0</td>\n",
       "      <td>6412.0</td>\n",
       "      <td>0.017050</td>\n",
       "      <td>0.825246</td>\n",
       "      <td>0.160304</td>\n",
       "      <td>0.839696</td>\n",
       "    </tr>\n",
       "    <tr>\n",
       "      <td>4347</td>\n",
       "      <td>Riverside Institute Of Technology</td>\n",
       "      <td>1</td>\n",
       "      <td>Public district</td>\n",
       "      <td>224</td>\n",
       "      <td>10-12</td>\n",
       "      <td>Buffalo</td>\n",
       "      <td>14207</td>\n",
       "      <td>NY</td>\n",
       "      <td>9810.0</td>\n",
       "      <td>5030.0</td>\n",
       "      <td>...</td>\n",
       "      <td>31.7</td>\n",
       "      <td>9631.0</td>\n",
       "      <td>26448.0</td>\n",
       "      <td>1247.0</td>\n",
       "      <td>4411.0</td>\n",
       "      <td>16225.0</td>\n",
       "      <td>0.052947</td>\n",
       "      <td>0.187288</td>\n",
       "      <td>0.688901</td>\n",
       "      <td>0.311099</td>\n",
       "    </tr>\n",
       "    <tr>\n",
       "      <td>4348</td>\n",
       "      <td>Mount Pleasant Cottage School</td>\n",
       "      <td>1</td>\n",
       "      <td>Public district</td>\n",
       "      <td>120</td>\n",
       "      <td>1-12</td>\n",
       "      <td>Pleasantville</td>\n",
       "      <td>10570</td>\n",
       "      <td>NY</td>\n",
       "      <td>6050.0</td>\n",
       "      <td>2740.0</td>\n",
       "      <td>...</td>\n",
       "      <td>40.1</td>\n",
       "      <td>4201.0</td>\n",
       "      <td>132601.0</td>\n",
       "      <td>786.0</td>\n",
       "      <td>522.0</td>\n",
       "      <td>11153.0</td>\n",
       "      <td>0.061987</td>\n",
       "      <td>0.041167</td>\n",
       "      <td>0.879574</td>\n",
       "      <td>0.120426</td>\n",
       "    </tr>\n",
       "    <tr>\n",
       "      <td>4349</td>\n",
       "      <td>Greenburgh Eleven High School</td>\n",
       "      <td>1</td>\n",
       "      <td>Public district</td>\n",
       "      <td>80</td>\n",
       "      <td>9-12</td>\n",
       "      <td>Dobbs Ferry</td>\n",
       "      <td>10522</td>\n",
       "      <td>NY</td>\n",
       "      <td>5390.0</td>\n",
       "      <td>2480.0</td>\n",
       "      <td>...</td>\n",
       "      <td>41.4</td>\n",
       "      <td>3901.0</td>\n",
       "      <td>126988.0</td>\n",
       "      <td>1055.0</td>\n",
       "      <td>887.0</td>\n",
       "      <td>8775.0</td>\n",
       "      <td>0.097011</td>\n",
       "      <td>0.081563</td>\n",
       "      <td>0.806897</td>\n",
       "      <td>0.193103</td>\n",
       "    </tr>\n",
       "    <tr>\n",
       "      <td>4350</td>\n",
       "      <td>Thomas K Beecher School</td>\n",
       "      <td>1</td>\n",
       "      <td>Public district</td>\n",
       "      <td>389</td>\n",
       "      <td>3-6</td>\n",
       "      <td>Elmira</td>\n",
       "      <td>14901</td>\n",
       "      <td>NY</td>\n",
       "      <td>5250.0</td>\n",
       "      <td>2700.0</td>\n",
       "      <td>...</td>\n",
       "      <td>34.3</td>\n",
       "      <td>5805.0</td>\n",
       "      <td>29072.0</td>\n",
       "      <td>165.0</td>\n",
       "      <td>3659.0</td>\n",
       "      <td>13251.0</td>\n",
       "      <td>0.009859</td>\n",
       "      <td>0.218630</td>\n",
       "      <td>0.791766</td>\n",
       "      <td>0.208234</td>\n",
       "    </tr>\n",
       "  </tbody>\n",
       "</table>\n",
       "<p>4351 rows × 30 columns</p>\n",
       "</div>"
      ],
      "text/plain": [
       "                                 school  rating             type  students  \\\n",
       "0               Garden City High School      10  Public district      1165   \n",
       "1                    Saddle Rock School      10  Public district       558   \n",
       "2                       Purchase School      10  Public district       315   \n",
       "3                  Center Street School      10  Public district       489   \n",
       "4                      Briarwood School      10  Public district       170   \n",
       "...                                 ...     ...              ...       ...   \n",
       "4346                              Ps 84       1  Public district       199   \n",
       "4347  Riverside Institute Of Technology       1  Public district       224   \n",
       "4348      Mount Pleasant Cottage School       1  Public district       120   \n",
       "4349      Greenburgh Eleven High School       1  Public district        80   \n",
       "4350            Thomas K Beecher School       1  Public district       389   \n",
       "\n",
       "         grades             city    zip state  returns  single_returns  ...  \\\n",
       "0          9-12      Garden City  11530    NY  14650.0          6910.0  ...   \n",
       "1           K-5       Great Neck  11023    NY   4090.0          1710.0  ...   \n",
       "2           K-5         Harrison  10577    NY   1550.0           760.0  ...   \n",
       "3           K-5   Williston Park  11596    NY   5470.0          2570.0  ...   \n",
       "4           K-3      Irondequoit  14617    NY  12300.0          6200.0  ...   \n",
       "...         ...              ...    ...   ...      ...             ...  ...   \n",
       "4346   Ungraded          Buffalo  14215    NY  16760.0          8480.0  ...   \n",
       "4347      10-12          Buffalo  14207    NY   9810.0          5030.0  ...   \n",
       "4348       1-12    Pleasantville  10570    NY   6050.0          2740.0  ...   \n",
       "4349       9-12      Dobbs Ferry  10522    NY   5390.0          2480.0  ...   \n",
       "4350        3-6           Elmira  14901    NY   5250.0          2700.0  ...   \n",
       "\n",
       "      median_age  households  income_per_household   asian  african_american  \\\n",
       "0           42.3      9111.0              151809.0  1184.0             524.0   \n",
       "1           42.7      3130.0              111607.0   892.0             115.0   \n",
       "2           20.9       776.0              213173.0   656.0             538.0   \n",
       "3           42.9      3676.0              116250.0  1483.0              98.0   \n",
       "4           43.9      9502.0               64589.0   390.0            1064.0   \n",
       "...          ...         ...                   ...     ...               ...   \n",
       "4346        31.5     15778.0               35160.0   682.0           33009.0   \n",
       "4347        31.7      9631.0               26448.0  1247.0            4411.0   \n",
       "4348        40.1      4201.0              132601.0   786.0             522.0   \n",
       "4349        41.4      3901.0              126988.0  1055.0             887.0   \n",
       "4350        34.3      5805.0               29072.0   165.0            3659.0   \n",
       "\n",
       "        white  per_asian  per_african_american  per_white  per_non_white  \n",
       "0     25489.0   0.043413              0.019213   0.934587       0.065413  \n",
       "1      8171.0   0.098815              0.012740   0.905173       0.094827  \n",
       "2      5263.0   0.100122              0.082112   0.803266       0.196734  \n",
       "3      8876.0   0.141508              0.009351   0.846947       0.153053  \n",
       "4     21312.0   0.017114              0.046689   0.935188       0.064812  \n",
       "...       ...        ...                   ...        ...            ...  \n",
       "4346   6412.0   0.017050              0.825246   0.160304       0.839696  \n",
       "4347  16225.0   0.052947              0.187288   0.688901       0.311099  \n",
       "4348  11153.0   0.061987              0.041167   0.879574       0.120426  \n",
       "4349   8775.0   0.097011              0.081563   0.806897       0.193103  \n",
       "4350  13251.0   0.009859              0.218630   0.791766       0.208234  \n",
       "\n",
       "[4351 rows x 30 columns]"
      ]
     },
     "execution_count": 25,
     "metadata": {},
     "output_type": "execute_result"
    }
   ],
   "source": [
    "# I then merged my Demographic data with the GS and Inccome data\n",
    "gs_income_demo = pd.merge(gs_income, zip_demo_2, how='left', left_on='zip', right_on='zip_demo').drop(['zip_demo'], axis=1)\n",
    "gs_income_demo"
   ]
  },
  {
   "cell_type": "code",
   "execution_count": 54,
   "metadata": {},
   "outputs": [],
   "source": [
    "# Lastly, I exported this final dataset to a csv\n",
    "gs_income_demo.to_csv('gs_income_demo.csv')"
   ]
  },
  {
   "cell_type": "markdown",
   "metadata": {},
   "source": [
    "# Analysis"
   ]
  },
  {
   "cell_type": "markdown",
   "metadata": {},
   "source": [
    "I first wanted to see what the distribution of ratings looked like in terms of schools by rating and total students in schools by rating. In the graphs below, you'll find a fairly normal distribution of both schools by rating and students in schools by rating. This means that Great Schools ratings don't skew one way or another for all New York Schools.\n",
    "\n",
    "While I have included a histogram that shows the distribution of ratings, the bar graphs are more useful because they divide the data into ratings categories."
   ]
  },
  {
   "cell_type": "markdown",
   "metadata": {},
   "source": [
    "### Number of Schools by Rating"
   ]
  },
  {
   "cell_type": "code",
   "execution_count": 26,
   "metadata": {},
   "outputs": [
    {
     "data": {
      "text/plain": [
       "Text(0, 0.5, 'Number of Schools')"
      ]
     },
     "execution_count": 26,
     "metadata": {},
     "output_type": "execute_result"
    },
    {
     "data": {
      "image/png": "[encoded data removed]",
      "text/plain": [
       "<Figure size 864x432 with 1 Axes>"
      ]
     },
     "metadata": {},
     "output_type": "display_data"
    }
   ],
   "source": [
    "plt.figure(figsize=(12,6))\n",
    "gs_income_demo.groupby('rating')['school'].nunique().plot.bar(color='#002649')\n",
    "plt.title('Number of Schools by Rating')\n",
    "plt.xlabel('School Rating')\n",
    "plt.ylabel('Number of Schools')"
   ]
  },
  {
   "cell_type": "markdown",
   "metadata": {},
   "source": [
    "### Number of Students in Schools by Rating"
   ]
  },
  {
   "cell_type": "code",
   "execution_count": 27,
   "metadata": {
    "scrolled": false
   },
   "outputs": [
    {
     "data": {
      "text/plain": [
       "Text(0, 0.5, 'Number of Students')"
      ]
     },
     "execution_count": 27,
     "metadata": {},
     "output_type": "execute_result"
    },
    {
     "data": {
      "image/png": "[encoded data removed]",
      "text/plain": [
       "<Figure size 864x432 with 1 Axes>"
      ]
     },
     "metadata": {},
     "output_type": "display_data"
    }
   ],
   "source": [
    "plt.figure(figsize=(12,6))\n",
    "gs_income_demo.groupby('rating')['students'].sum().plot.bar(color='#002649')\n",
    "plt.title('Number of Students in Schools by Rating')\n",
    "plt.xlabel('School Rating')\n",
    "plt.ylabel('Number of Students')"
   ]
  },
  {
   "cell_type": "markdown",
   "metadata": {},
   "source": [
    "### Histogram of Ratings (not particularly useful)"
   ]
  },
  {
   "cell_type": "code",
   "execution_count": 28,
   "metadata": {
    "scrolled": false
   },
   "outputs": [
    {
     "data": {
      "text/plain": [
       "Text(0.5, 1.0, 'Histogram of GreatSchools Ratings')"
      ]
     },
     "execution_count": 28,
     "metadata": {},
     "output_type": "execute_result"
    },
    {
     "data": {
      "image/png": "[encoded data removed]",
      "text/plain": [
       "<Figure size 864x432 with 1 Axes>"
      ]
     },
     "metadata": {},
     "output_type": "display_data"
    }
   ],
   "source": [
    "plt.figure(figsize=(12,6))\n",
    "plt.hist(gs_income_demo['rating'], color='#002649')\n",
    "plt.title('Histogram of GreatSchools Ratings')"
   ]
  },
  {
   "cell_type": "markdown",
   "metadata": {},
   "source": [
    "Now that I knew the distribution of ratings was mostly normal, I wanted to see average incomes and racial breakdowns for schools rated in each category."
   ]
  },
  {
   "cell_type": "markdown",
   "metadata": {},
   "source": [
    "### Mean Household Income by GreatSchools Rating"
   ]
  },
  {
   "cell_type": "code",
   "execution_count": 29,
   "metadata": {
    "scrolled": false
   },
   "outputs": [
    {
     "data": {
      "text/plain": [
       "Text(0, 0.5, 'Avg Household Income ($)')"
      ]
     },
     "execution_count": 29,
     "metadata": {},
     "output_type": "execute_result"
    },
    {
     "data": {
      "image/png": "[encoded data removed]",
      "text/plain": [
       "<Figure size 864x432 with 1 Axes>"
      ]
     },
     "metadata": {},
     "output_type": "display_data"
    }
   ],
   "source": [
    "plt.figure(figsize=(12,6))\n",
    "gs_income_demo.groupby('rating')['income_per_household'].mean().plot.bar(color='#355e3b')\n",
    "plt.title('Mean Household Income by GreatSchools Rating')\n",
    "plt.xlabel('School Rating')\n",
    "plt.ylabel('Avg Household Income ($)')"
   ]
  },
  {
   "cell_type": "markdown",
   "metadata": {},
   "source": [
    "### Household Income Distributions Across School Ratings (No Outliers)"
   ]
  },
  {
   "cell_type": "code",
   "execution_count": 30,
   "metadata": {},
   "outputs": [
    {
     "data": {
      "text/plain": [
       "Text(0, 0.5, 'Distribution of Household Income')"
      ]
     },
     "execution_count": 30,
     "metadata": {},
     "output_type": "execute_result"
    },
    {
     "data": {
      "image/png": "[encoded data removed]",
      "text/plain": [
       "<Figure size 864x576 with 1 Axes>"
      ]
     },
     "metadata": {},
     "output_type": "display_data"
    }
   ],
   "source": [
    "plt.figure(figsize=(12,8))\n",
    "sns.boxplot(x=gs_income_demo['rating'], y=gs_income_demo['income_per_household'],\n",
    "            fliersize=1, width=.5, showfliers=False)\n",
    "plt.title('Household Income Distributions Across School Ratings')\n",
    "plt.xlabel('School Rating')\n",
    "plt.ylabel('Distribution of Household Income')"
   ]
  },
  {
   "cell_type": "markdown",
   "metadata": {},
   "source": [
    "### Percentage African American by GreatSchools Rating"
   ]
  },
  {
   "cell_type": "code",
   "execution_count": 31,
   "metadata": {},
   "outputs": [
    {
     "data": {
      "text/plain": [
       "Text(0, 0.5, 'Percent of Zip Code is African American')"
      ]
     },
     "execution_count": 31,
     "metadata": {},
     "output_type": "execute_result"
    },
    {
     "data": {
      "image/png": "[encoded data removed]",
      "text/plain": [
       "<Figure size 864x432 with 1 Axes>"
      ]
     },
     "metadata": {},
     "output_type": "display_data"
    }
   ],
   "source": [
    "plt.figure(figsize=(12,6))\n",
    "gs_income_demo.groupby('rating')['per_african_american'].mean().plot.bar(color='#355e3b')\n",
    "plt.title('Percent African American by GreatSchools Rating')\n",
    "plt.xlabel('School Rating')\n",
    "plt.ylabel('Percent of Zip Code is African American')"
   ]
  },
  {
   "cell_type": "markdown",
   "metadata": {},
   "source": [
    "### Distribution of School Ratings: Percentage of Population is African American (No Outliers)"
   ]
  },
  {
   "cell_type": "code",
   "execution_count": 32,
   "metadata": {},
   "outputs": [
    {
     "data": {
      "text/plain": [
       "Text(0, 0.5, 'Percent of Zip Code is African American')"
      ]
     },
     "execution_count": 32,
     "metadata": {},
     "output_type": "execute_result"
    },
    {
     "data": {
      "image/png": "[encoded data removed]",
      "text/plain": [
       "<Figure size 864x576 with 1 Axes>"
      ]
     },
     "metadata": {},
     "output_type": "display_data"
    }
   ],
   "source": [
    "plt.figure(figsize=(12,8))\n",
    "sns.boxplot(x=gs_income_demo['rating'], y=gs_income_demo['per_african_american'],\n",
    "            fliersize=1, width=.5, showfliers=False)\n",
    "plt.title('Distribution of School Ratings: Percentage of Zip Code is African American')\n",
    "plt.xlabel('School Rating')\n",
    "plt.ylabel('Percent of Zip Code is African American')"
   ]
  },
  {
   "cell_type": "markdown",
   "metadata": {},
   "source": [
    "### Percentage White by GreatSchools Rating"
   ]
  },
  {
   "cell_type": "code",
   "execution_count": 33,
   "metadata": {},
   "outputs": [
    {
     "data": {
      "text/plain": [
       "Text(0, 0.5, 'Percent of Zip Code is White')"
      ]
     },
     "execution_count": 33,
     "metadata": {},
     "output_type": "execute_result"
    },
    {
     "data": {
      "image/png": "[encoded data removed]",
      "text/plain": [
       "<Figure size 864x432 with 1 Axes>"
      ]
     },
     "metadata": {},
     "output_type": "display_data"
    }
   ],
   "source": [
    "plt.figure(figsize=(12,6))\n",
    "gs_income_demo.groupby('rating')['per_white'].mean().plot.bar(color='#355e3b')\n",
    "plt.title('Percent White by GreatSchools Rating')\n",
    "plt.xlabel('School Rating')\n",
    "plt.ylabel('Percent of Zip Code is White')"
   ]
  },
  {
   "cell_type": "markdown",
   "metadata": {},
   "source": [
    "### Distribution of School Ratings: Percentage of Population is White (No Outliers)"
   ]
  },
  {
   "cell_type": "code",
   "execution_count": 34,
   "metadata": {},
   "outputs": [
    {
     "data": {
      "text/plain": [
       "Text(0, 0.5, 'Percent of Zip Code is African American')"
      ]
     },
     "execution_count": 34,
     "metadata": {},
     "output_type": "execute_result"
    },
    {
     "data": {
      "image/png": "[encoded data removed]",
      "text/plain": [
       "<Figure size 864x576 with 1 Axes>"
      ]
     },
     "metadata": {},
     "output_type": "display_data"
    }
   ],
   "source": [
    "plt.figure(figsize=(12,8))\n",
    "sns.boxplot(x=gs_income_demo['rating'], y=gs_income_demo['per_white'],\n",
    "            fliersize=1, width=.5, showfliers=False)\n",
    "plt.title('Distribution of School Ratings: Percentage of Zip Code is White')\n",
    "plt.xlabel('School Rating')\n",
    "plt.ylabel('Percent of Zip Code is African American')"
   ]
  },
  {
   "cell_type": "markdown",
   "metadata": {},
   "source": [
    "Based on these graphs, it appears that there's a positive relationship between the average household income of a zip code and the ratings of schools within the zip code. There also appears to be a negative relationship between school ratings and zip codes with a higher percentage of African American residents. The relationship between school ratings and the percent of a zip code that identifies as white is less clear, but there does seem to be a positive correlation. I'll explore this correlation below."
   ]
  },
  {
   "cell_type": "markdown",
   "metadata": {},
   "source": [
    "### Correlation of Variables on School Ratings"
   ]
  },
  {
   "cell_type": "code",
   "execution_count": 35,
   "metadata": {},
   "outputs": [],
   "source": [
    "from sklearn.linear_model import LinearRegression"
   ]
  },
  {
   "cell_type": "code",
   "execution_count": 36,
   "metadata": {},
   "outputs": [],
   "source": [
    "# First, created a separate dataframe that included only relevant variable types of floats or integers\n",
    "gs_income_demo_lr = gs_income_demo.drop(['school','type','grades','city','state',\\\n",
    "                               'returns','single_returns','joint_returns',\\\n",
    "                               'agi','total_income','returns_itemized','asian','african_american','white'],\\\n",
    "                              axis=1)"
   ]
  },
  {
   "cell_type": "code",
   "execution_count": 37,
   "metadata": {},
   "outputs": [
    {
     "name": "stdout",
     "output_type": "stream",
     "text": [
      "rating                     1.000000\n",
      "income_per_household       0.451477\n",
      "per_joint                  0.451436\n",
      "median_age                 0.321336\n",
      "income_per_return          0.320401\n",
      "agi_per_return             0.319583\n",
      "per_white                  0.294155\n",
      "per_asian                  0.208656\n",
      "students                   0.161474\n",
      "annual_business_payroll    0.003114\n",
      "zip                       -0.034384\n",
      "households                -0.110228\n",
      "population                -0.123344\n",
      "per_single                -0.182915\n",
      "per_african_american      -0.348602\n",
      "Name: rating, dtype: float64\n"
     ]
    }
   ],
   "source": [
    "# Then I checked the Pearson correlation between all variables and scool ratings\n",
    "corr_pearson = gs_income_demo_lr.corr(method='pearson')['rating'][:-1].sort_values(ascending=False)\n",
    "print(corr_pearson)"
   ]
  },
  {
   "cell_type": "markdown",
   "metadata": {},
   "source": [
    "As is noted in the table of correlations above, the most highly correlated variables and GreatSchools' ratings was income_per_household, followed closely by the percent of tax returns for a given zip code that were joint filings, which acts as a proxy for the percent of married households in the zip code. Aside from median age, the top-5 correlation values all had to do with income. Income per return and AGI (adjusted gross income) per return are income measurements taken from the IRS Income Data I downloaded."
   ]
  },
  {
   "cell_type": "markdown",
   "metadata": {},
   "source": [
    "## Charter vs District School"
   ]
  },
  {
   "cell_type": "markdown",
   "metadata": {},
   "source": [
    "All of the insights gleaned from the analysis above are not particularly interesting. They reinforce what other analyses by folks much more talented and exacting than me have already found: the quality of a child's education is influenced by the level of affluence or deprivation in their local community. However, the data became more interesting once I started to dig into the ratings of district vs charter schools."
   ]
  },
  {
   "cell_type": "markdown",
   "metadata": {},
   "source": [
    "### Household Income Distributions by School Rating by District or Charter (No Outliers)"
   ]
  },
  {
   "cell_type": "code",
   "execution_count": 63,
   "metadata": {},
   "outputs": [
    {
     "data": {
      "text/plain": [
       "Text(0, 0.5, 'Distribution of Income')"
      ]
     },
     "execution_count": 63,
     "metadata": {},
     "output_type": "execute_result"
    },
    {
     "data": {
      "image/png": "[encoded data removed]",
      "text/plain": [
       "<Figure size 864x576 with 1 Axes>"
      ]
     },
     "metadata": {},
     "output_type": "display_data"
    }
   ],
   "source": [
    "plt.figure(figsize=(12,8))\n",
    "sns.boxplot(x=gs_income_demo['rating'], y=gs_income_demo['income_per_household'], hue=gs_income_demo['type'],\n",
    "            fliersize=1, width=.5, showfliers=False)\n",
    "plt.title('Distribution of Income by School Ratings by District or Charter')\n",
    "plt.xlabel('School Rating')\n",
    "plt.ylabel('Distribution of Income')"
   ]
  },
  {
   "cell_type": "markdown",
   "metadata": {},
   "source": [
    "When breaking up the income distribution box plot used in the analysis above into the categories of 'Public district' and 'Public charter' an interesting trend emerges: high quality district schools seem to serve zip codes with relatively high incomes while charter schools seem to be the only high quality schools located in low-income zip codes."
   ]
  },
  {
   "cell_type": "markdown",
   "metadata": {},
   "source": [
    "### Distribution of African American Population by School Ratings by District or Charter (No Outliers)"
   ]
  },
  {
   "cell_type": "code",
   "execution_count": 64,
   "metadata": {},
   "outputs": [
    {
     "data": {
      "text/plain": [
       "Text(0, 0.5, 'Percent of Zip Code is African American')"
      ]
     },
     "execution_count": 64,
     "metadata": {},
     "output_type": "execute_result"
    },
    {
     "data": {
      "image/png": "[encoded data removed]",
      "text/plain": [
       "<Figure size 864x576 with 1 Axes>"
      ]
     },
     "metadata": {},
     "output_type": "display_data"
    }
   ],
   "source": [
    "plt.figure(figsize=(12,8))\n",
    "sns.boxplot(x=gs_income_demo['rating'], y=gs_income_demo['per_african_american'],\\\n",
    "            hue=gs_income_demo['type'], fliersize=1, width=.5, showfliers=False)\n",
    "plt.title('Distribution of African American Population by School Ratings by District or Charter')\n",
    "plt.xlabel('School Rating')\n",
    "plt.ylabel('Percent of Zip Code is African American')"
   ]
  },
  {
   "cell_type": "markdown",
   "metadata": {},
   "source": [
    "The plot above shows the distrubtion of high quality district and charter schools relative to the percent of the zip code that identifies as African American. Charter schools seem to significantly outperform district schools in zip codes that have a higher proportion of African American residents. \n",
    "\n",
    "These findings prompted me to perform additional analysis on the difference in Great Schools ratings for district versus charter schools along economic and demographic lines and by schools located inside and outside of NYC. The topic of charter school expansion is hotly debated within the ed policy world, and further analysis is warranted to better understand how district and charter schools currently serve different communities."
   ]
  },
  {
   "cell_type": "markdown",
   "metadata": {},
   "source": [
    "## Further Analysis of Charter vs District by Income, Race, and Location"
   ]
  },
  {
   "cell_type": "code",
   "execution_count": 40,
   "metadata": {
    "collapsed": true
   },
   "outputs": [
    {
     "data": {
      "text/html": [
       "<div>\n",
       "<style scoped>\n",
       "    .dataframe tbody tr th:only-of-type {\n",
       "        vertical-align: middle;\n",
       "    }\n",
       "\n",
       "    .dataframe tbody tr th {\n",
       "        vertical-align: top;\n",
       "    }\n",
       "\n",
       "    .dataframe thead th {\n",
       "        text-align: right;\n",
       "    }\n",
       "</style>\n",
       "<table border=\"1\" class=\"dataframe\">\n",
       "  <thead>\n",
       "    <tr style=\"text-align: right;\">\n",
       "      <th></th>\n",
       "      <th>school</th>\n",
       "      <th>rating</th>\n",
       "      <th>type</th>\n",
       "      <th>students</th>\n",
       "      <th>grades</th>\n",
       "      <th>city</th>\n",
       "      <th>zip</th>\n",
       "      <th>state</th>\n",
       "      <th>returns</th>\n",
       "      <th>single_returns</th>\n",
       "      <th>...</th>\n",
       "      <th>median_age</th>\n",
       "      <th>households</th>\n",
       "      <th>income_per_household</th>\n",
       "      <th>asian</th>\n",
       "      <th>african_american</th>\n",
       "      <th>white</th>\n",
       "      <th>per_asian</th>\n",
       "      <th>per_african_american</th>\n",
       "      <th>per_white</th>\n",
       "      <th>per_non_white</th>\n",
       "    </tr>\n",
       "  </thead>\n",
       "  <tbody>\n",
       "    <tr>\n",
       "      <td>0</td>\n",
       "      <td>Garden City High School</td>\n",
       "      <td>10</td>\n",
       "      <td>Public district</td>\n",
       "      <td>1165</td>\n",
       "      <td>9-12</td>\n",
       "      <td>Garden City</td>\n",
       "      <td>11530</td>\n",
       "      <td>NY</td>\n",
       "      <td>14650.0</td>\n",
       "      <td>6910.0</td>\n",
       "      <td>...</td>\n",
       "      <td>42.3</td>\n",
       "      <td>9111.0</td>\n",
       "      <td>151809.0</td>\n",
       "      <td>1184.0</td>\n",
       "      <td>524.0</td>\n",
       "      <td>25489.0</td>\n",
       "      <td>0.043413</td>\n",
       "      <td>0.019213</td>\n",
       "      <td>0.934587</td>\n",
       "      <td>0.065413</td>\n",
       "    </tr>\n",
       "    <tr>\n",
       "      <td>1</td>\n",
       "      <td>Saddle Rock School</td>\n",
       "      <td>10</td>\n",
       "      <td>Public district</td>\n",
       "      <td>558</td>\n",
       "      <td>K-5</td>\n",
       "      <td>Great Neck</td>\n",
       "      <td>11023</td>\n",
       "      <td>NY</td>\n",
       "      <td>4090.0</td>\n",
       "      <td>1710.0</td>\n",
       "      <td>...</td>\n",
       "      <td>42.7</td>\n",
       "      <td>3130.0</td>\n",
       "      <td>111607.0</td>\n",
       "      <td>892.0</td>\n",
       "      <td>115.0</td>\n",
       "      <td>8171.0</td>\n",
       "      <td>0.098815</td>\n",
       "      <td>0.012740</td>\n",
       "      <td>0.905173</td>\n",
       "      <td>0.094827</td>\n",
       "    </tr>\n",
       "    <tr>\n",
       "      <td>2</td>\n",
       "      <td>Purchase School</td>\n",
       "      <td>10</td>\n",
       "      <td>Public district</td>\n",
       "      <td>315</td>\n",
       "      <td>K-5</td>\n",
       "      <td>Harrison</td>\n",
       "      <td>10577</td>\n",
       "      <td>NY</td>\n",
       "      <td>1550.0</td>\n",
       "      <td>760.0</td>\n",
       "      <td>...</td>\n",
       "      <td>20.9</td>\n",
       "      <td>776.0</td>\n",
       "      <td>213173.0</td>\n",
       "      <td>656.0</td>\n",
       "      <td>538.0</td>\n",
       "      <td>5263.0</td>\n",
       "      <td>0.100122</td>\n",
       "      <td>0.082112</td>\n",
       "      <td>0.803266</td>\n",
       "      <td>0.196734</td>\n",
       "    </tr>\n",
       "    <tr>\n",
       "      <td>3</td>\n",
       "      <td>Center Street School</td>\n",
       "      <td>10</td>\n",
       "      <td>Public district</td>\n",
       "      <td>489</td>\n",
       "      <td>K-5</td>\n",
       "      <td>Williston Park</td>\n",
       "      <td>11596</td>\n",
       "      <td>NY</td>\n",
       "      <td>5470.0</td>\n",
       "      <td>2570.0</td>\n",
       "      <td>...</td>\n",
       "      <td>42.9</td>\n",
       "      <td>3676.0</td>\n",
       "      <td>116250.0</td>\n",
       "      <td>1483.0</td>\n",
       "      <td>98.0</td>\n",
       "      <td>8876.0</td>\n",
       "      <td>0.141508</td>\n",
       "      <td>0.009351</td>\n",
       "      <td>0.846947</td>\n",
       "      <td>0.153053</td>\n",
       "    </tr>\n",
       "    <tr>\n",
       "      <td>4</td>\n",
       "      <td>Briarwood School</td>\n",
       "      <td>10</td>\n",
       "      <td>Public district</td>\n",
       "      <td>170</td>\n",
       "      <td>K-3</td>\n",
       "      <td>Irondequoit</td>\n",
       "      <td>14617</td>\n",
       "      <td>NY</td>\n",
       "      <td>12300.0</td>\n",
       "      <td>6200.0</td>\n",
       "      <td>...</td>\n",
       "      <td>43.9</td>\n",
       "      <td>9502.0</td>\n",
       "      <td>64589.0</td>\n",
       "      <td>390.0</td>\n",
       "      <td>1064.0</td>\n",
       "      <td>21312.0</td>\n",
       "      <td>0.017114</td>\n",
       "      <td>0.046689</td>\n",
       "      <td>0.935188</td>\n",
       "      <td>0.064812</td>\n",
       "    </tr>\n",
       "  </tbody>\n",
       "</table>\n",
       "<p>5 rows × 30 columns</p>\n",
       "</div>"
      ],
      "text/plain": [
       "                    school  rating             type  students grades  \\\n",
       "0  Garden City High School      10  Public district      1165   9-12   \n",
       "1       Saddle Rock School      10  Public district       558    K-5   \n",
       "2          Purchase School      10  Public district       315    K-5   \n",
       "3     Center Street School      10  Public district       489    K-5   \n",
       "4         Briarwood School      10  Public district       170    K-3   \n",
       "\n",
       "              city    zip state  returns  single_returns  ...  median_age  \\\n",
       "0      Garden City  11530    NY  14650.0          6910.0  ...        42.3   \n",
       "1       Great Neck  11023    NY   4090.0          1710.0  ...        42.7   \n",
       "2         Harrison  10577    NY   1550.0           760.0  ...        20.9   \n",
       "3   Williston Park  11596    NY   5470.0          2570.0  ...        42.9   \n",
       "4      Irondequoit  14617    NY  12300.0          6200.0  ...        43.9   \n",
       "\n",
       "   households  income_per_household   asian  african_american    white  \\\n",
       "0      9111.0              151809.0  1184.0             524.0  25489.0   \n",
       "1      3130.0              111607.0   892.0             115.0   8171.0   \n",
       "2       776.0              213173.0   656.0             538.0   5263.0   \n",
       "3      3676.0              116250.0  1483.0              98.0   8876.0   \n",
       "4      9502.0               64589.0   390.0            1064.0  21312.0   \n",
       "\n",
       "   per_asian  per_african_american  per_white  per_non_white  \n",
       "0   0.043413              0.019213   0.934587       0.065413  \n",
       "1   0.098815              0.012740   0.905173       0.094827  \n",
       "2   0.100122              0.082112   0.803266       0.196734  \n",
       "3   0.141508              0.009351   0.846947       0.153053  \n",
       "4   0.017114              0.046689   0.935188       0.064812  \n",
       "\n",
       "[5 rows x 30 columns]"
      ]
     },
     "execution_count": 40,
     "metadata": {},
     "output_type": "execute_result"
    }
   ],
   "source": [
    "gs_income_demo.head()"
   ]
  },
  {
   "cell_type": "code",
   "execution_count": 41,
   "metadata": {},
   "outputs": [],
   "source": [
    "# First, I needed to add a column to identify schools that were inside or outside of NYC.\n",
    "# I plan to use this variable in my analysis below.\n",
    "# I created a numpy array that indicates whether a zip codes in NYC\n",
    "# Zip code ranges pulled from public information\n",
    "nyc = np.where(((gs_income_demo['zip'] > 10000) & (gs_income_demo['zip'] < 10500)) |\\\n",
    "               ((gs_income_demo['zip'] > 11004) & (gs_income_demo['zip'] < 11006)) |\\\n",
    "               ((gs_income_demo['zip'] > 11100) & (gs_income_demo['zip'] < 11500)) |\\\n",
    "               ((gs_income_demo['zip'] > 11689) & (gs_income_demo['zip'] < 11698)),\\\n",
    "               'nyc', 'not_nyc')"
   ]
  },
  {
   "cell_type": "code",
   "execution_count": 42,
   "metadata": {},
   "outputs": [
    {
     "data": {
      "text/html": [
       "<div>\n",
       "<style scoped>\n",
       "    .dataframe tbody tr th:only-of-type {\n",
       "        vertical-align: middle;\n",
       "    }\n",
       "\n",
       "    .dataframe tbody tr th {\n",
       "        vertical-align: top;\n",
       "    }\n",
       "\n",
       "    .dataframe thead th {\n",
       "        text-align: right;\n",
       "    }\n",
       "</style>\n",
       "<table border=\"1\" class=\"dataframe\">\n",
       "  <thead>\n",
       "    <tr style=\"text-align: right;\">\n",
       "      <th></th>\n",
       "      <th>is_nyc</th>\n",
       "    </tr>\n",
       "  </thead>\n",
       "  <tbody>\n",
       "    <tr>\n",
       "      <td>0</td>\n",
       "      <td>not_nyc</td>\n",
       "    </tr>\n",
       "    <tr>\n",
       "      <td>1</td>\n",
       "      <td>not_nyc</td>\n",
       "    </tr>\n",
       "    <tr>\n",
       "      <td>2</td>\n",
       "      <td>not_nyc</td>\n",
       "    </tr>\n",
       "    <tr>\n",
       "      <td>3</td>\n",
       "      <td>not_nyc</td>\n",
       "    </tr>\n",
       "    <tr>\n",
       "      <td>4</td>\n",
       "      <td>not_nyc</td>\n",
       "    </tr>\n",
       "  </tbody>\n",
       "</table>\n",
       "</div>"
      ],
      "text/plain": [
       "    is_nyc\n",
       "0  not_nyc\n",
       "1  not_nyc\n",
       "2  not_nyc\n",
       "3  not_nyc\n",
       "4  not_nyc"
      ]
     },
     "execution_count": 42,
     "metadata": {},
     "output_type": "execute_result"
    }
   ],
   "source": [
    "# I turned my nyc array into a data frame\n",
    "nyc = pd.DataFrame(nyc.flatten())\n",
    "# Then I assigned a column name\n",
    "nyc.columns=['is_nyc']\n",
    "nyc.head()"
   ]
  },
  {
   "cell_type": "code",
   "execution_count": 43,
   "metadata": {},
   "outputs": [],
   "source": [
    "# Then I merged my is_nyc column with my combined data sets\n",
    "# This will allow me to compare schools inside and outside of NYC\n",
    "gs_income_demo = pd.merge(gs_income_demo, nyc, how='left', left_index=True, right_index=True)"
   ]
  },
  {
   "cell_type": "code",
   "execution_count": null,
   "metadata": {},
   "outputs": [],
   "source": [
    "# Save to csv for posterity\n",
    "# gs_income_demo.to_csv('gs_income_demo_clean.csv')"
   ]
  },
  {
   "cell_type": "code",
   "execution_count": 44,
   "metadata": {},
   "outputs": [],
   "source": [
    "# I then created groups so that I could perform some analysis by categorical variables\n",
    "g_type = gs_income_demo.groupby('type')\n",
    "g_is_nyc = gs_income_demo.groupby('is_nyc')\n",
    "g_type_is_nyc = gs_income_demo.groupby(['type','is_nyc'])"
   ]
  },
  {
   "cell_type": "markdown",
   "metadata": {},
   "source": [
    "### Simple Analysis of Ratings by Groups"
   ]
  },
  {
   "cell_type": "code",
   "execution_count": 45,
   "metadata": {},
   "outputs": [
    {
     "data": {
      "text/html": [
       "<div>\n",
       "<style scoped>\n",
       "    .dataframe tbody tr th:only-of-type {\n",
       "        vertical-align: middle;\n",
       "    }\n",
       "\n",
       "    .dataframe tbody tr th {\n",
       "        vertical-align: top;\n",
       "    }\n",
       "\n",
       "    .dataframe thead th {\n",
       "        text-align: right;\n",
       "    }\n",
       "</style>\n",
       "<table border=\"1\" class=\"dataframe\">\n",
       "  <thead>\n",
       "    <tr style=\"text-align: right;\">\n",
       "      <th></th>\n",
       "      <th>count</th>\n",
       "      <th>mean</th>\n",
       "      <th>std</th>\n",
       "      <th>min</th>\n",
       "      <th>25%</th>\n",
       "      <th>50%</th>\n",
       "      <th>75%</th>\n",
       "      <th>max</th>\n",
       "    </tr>\n",
       "    <tr>\n",
       "      <th>type</th>\n",
       "      <th></th>\n",
       "      <th></th>\n",
       "      <th></th>\n",
       "      <th></th>\n",
       "      <th></th>\n",
       "      <th></th>\n",
       "      <th></th>\n",
       "      <th></th>\n",
       "    </tr>\n",
       "  </thead>\n",
       "  <tbody>\n",
       "    <tr>\n",
       "      <td>Public charter</td>\n",
       "      <td>243.0</td>\n",
       "      <td>5.687243</td>\n",
       "      <td>2.369076</td>\n",
       "      <td>1.0</td>\n",
       "      <td>4.0</td>\n",
       "      <td>6.0</td>\n",
       "      <td>7.0</td>\n",
       "      <td>10.0</td>\n",
       "    </tr>\n",
       "    <tr>\n",
       "      <td>Public district</td>\n",
       "      <td>4108.0</td>\n",
       "      <td>5.197176</td>\n",
       "      <td>2.210071</td>\n",
       "      <td>1.0</td>\n",
       "      <td>3.0</td>\n",
       "      <td>5.0</td>\n",
       "      <td>7.0</td>\n",
       "      <td>10.0</td>\n",
       "    </tr>\n",
       "  </tbody>\n",
       "</table>\n",
       "</div>"
      ],
      "text/plain": [
       "                  count      mean       std  min  25%  50%  75%   max\n",
       "type                                                                 \n",
       "Public charter    243.0  5.687243  2.369076  1.0  4.0  6.0  7.0  10.0\n",
       "Public district  4108.0  5.197176  2.210071  1.0  3.0  5.0  7.0  10.0"
      ]
     },
     "execution_count": 45,
     "metadata": {},
     "output_type": "execute_result"
    }
   ],
   "source": [
    "# Mean rating for all charter and public schools\n",
    "g_type['rating'].describe().sort_values('mean', ascending=False)"
   ]
  },
  {
   "cell_type": "markdown",
   "metadata": {},
   "source": [
    "On average, public charter schools have a higher GreatSchools rating than public district schools.\n",
    "\n"
   ]
  },
  {
   "cell_type": "markdown",
   "metadata": {},
   "source": [
    " "
   ]
  },
  {
   "cell_type": "code",
   "execution_count": null,
   "metadata": {},
   "outputs": [],
   "source": [
    "# Mean rating for all schools in NYC vs not in NYC\n",
    "g_is_nyc['rating'].describe().sort_values('mean', ascending=False)"
   ]
  },
  {
   "cell_type": "markdown",
   "metadata": {},
   "source": [
    "On average, schools outside of NYC are more highly rated on GreatSchools than are schools in NYC."
   ]
  },
  {
   "cell_type": "markdown",
   "metadata": {},
   "source": [
    " \n"
   ]
  },
  {
   "cell_type": "code",
   "execution_count": 47,
   "metadata": {},
   "outputs": [
    {
     "data": {
      "text/html": [
       "<div>\n",
       "<style scoped>\n",
       "    .dataframe tbody tr th:only-of-type {\n",
       "        vertical-align: middle;\n",
       "    }\n",
       "\n",
       "    .dataframe tbody tr th {\n",
       "        vertical-align: top;\n",
       "    }\n",
       "\n",
       "    .dataframe thead th {\n",
       "        text-align: right;\n",
       "    }\n",
       "</style>\n",
       "<table border=\"1\" class=\"dataframe\">\n",
       "  <thead>\n",
       "    <tr style=\"text-align: right;\">\n",
       "      <th></th>\n",
       "      <th></th>\n",
       "      <th>count</th>\n",
       "      <th>mean</th>\n",
       "      <th>std</th>\n",
       "      <th>min</th>\n",
       "      <th>25%</th>\n",
       "      <th>50%</th>\n",
       "      <th>75%</th>\n",
       "      <th>max</th>\n",
       "    </tr>\n",
       "    <tr>\n",
       "      <th>type</th>\n",
       "      <th>is_nyc</th>\n",
       "      <th></th>\n",
       "      <th></th>\n",
       "      <th></th>\n",
       "      <th></th>\n",
       "      <th></th>\n",
       "      <th></th>\n",
       "      <th></th>\n",
       "      <th></th>\n",
       "    </tr>\n",
       "  </thead>\n",
       "  <tbody>\n",
       "    <tr>\n",
       "      <td>Public charter</td>\n",
       "      <td>nyc</td>\n",
       "      <td>195.0</td>\n",
       "      <td>6.087179</td>\n",
       "      <td>2.341378</td>\n",
       "      <td>1.0</td>\n",
       "      <td>4.5</td>\n",
       "      <td>6.0</td>\n",
       "      <td>8.0</td>\n",
       "      <td>10.0</td>\n",
       "    </tr>\n",
       "    <tr>\n",
       "      <td rowspan=\"2\" valign=\"top\">Public district</td>\n",
       "      <td>not_nyc</td>\n",
       "      <td>2626.0</td>\n",
       "      <td>5.447449</td>\n",
       "      <td>2.006015</td>\n",
       "      <td>1.0</td>\n",
       "      <td>4.0</td>\n",
       "      <td>5.0</td>\n",
       "      <td>7.0</td>\n",
       "      <td>10.0</td>\n",
       "    </tr>\n",
       "    <tr>\n",
       "      <td>nyc</td>\n",
       "      <td>1482.0</td>\n",
       "      <td>4.753711</td>\n",
       "      <td>2.470775</td>\n",
       "      <td>1.0</td>\n",
       "      <td>3.0</td>\n",
       "      <td>4.0</td>\n",
       "      <td>7.0</td>\n",
       "      <td>10.0</td>\n",
       "    </tr>\n",
       "    <tr>\n",
       "      <td>Public charter</td>\n",
       "      <td>not_nyc</td>\n",
       "      <td>48.0</td>\n",
       "      <td>4.062500</td>\n",
       "      <td>1.706137</td>\n",
       "      <td>1.0</td>\n",
       "      <td>3.0</td>\n",
       "      <td>4.0</td>\n",
       "      <td>5.0</td>\n",
       "      <td>8.0</td>\n",
       "    </tr>\n",
       "  </tbody>\n",
       "</table>\n",
       "</div>"
      ],
      "text/plain": [
       "                          count      mean       std  min  25%  50%  75%   max\n",
       "type            is_nyc                                                       \n",
       "Public charter  nyc       195.0  6.087179  2.341378  1.0  4.5  6.0  8.0  10.0\n",
       "Public district not_nyc  2626.0  5.447449  2.006015  1.0  4.0  5.0  7.0  10.0\n",
       "                nyc      1482.0  4.753711  2.470775  1.0  3.0  4.0  7.0  10.0\n",
       "Public charter  not_nyc    48.0  4.062500  1.706137  1.0  3.0  4.0  5.0   8.0"
      ]
     },
     "execution_count": 47,
     "metadata": {},
     "output_type": "execute_result"
    }
   ],
   "source": [
    "# Mean rating for charters and district in NYC and not in NYC\n",
    "g_type_is_nyc['rating'].describe().sort_values('mean', ascending=False)"
   ]
  },
  {
   "cell_type": "markdown",
   "metadata": {},
   "source": [
    "The highest rated schols according to GreatSchools, on average, were public charter schools in NYC, followed by public district schools outside of NYC. See the graph below for more detail."
   ]
  },
  {
   "cell_type": "markdown",
   "metadata": {},
   "source": [
    "### Ratings by Charter and District , NYC and Non-NYC"
   ]
  },
  {
   "cell_type": "code",
   "execution_count": 54,
   "metadata": {},
   "outputs": [
    {
     "data": {
      "text/plain": [
       "<matplotlib.axes._subplots.AxesSubplot at 0x1a20d091d0>"
      ]
     },
     "execution_count": 54,
     "metadata": {},
     "output_type": "execute_result"
    },
    {
     "data": {
      "image/png": "[encoded data removed]",
      "text/plain": [
       "<Figure size 432x288 with 1 Axes>"
      ]
     },
     "metadata": {},
     "output_type": "display_data"
    }
   ],
   "source": [
    "gs_income_demo.groupby(['is_nyc','type'])\\\n",
    ".mean()['rating'].unstack().plot.bar()"
   ]
  },
  {
   "cell_type": "markdown",
   "metadata": {},
   "source": [
    " "
   ]
  },
  {
   "cell_type": "markdown",
   "metadata": {},
   "source": [
    " "
   ]
  },
  {
   "cell_type": "markdown",
   "metadata": {},
   "source": [
    "### Simple Analysis of Income by Groups"
   ]
  },
  {
   "cell_type": "code",
   "execution_count": 48,
   "metadata": {},
   "outputs": [
    {
     "data": {
      "text/html": [
       "<div>\n",
       "<style scoped>\n",
       "    .dataframe tbody tr th:only-of-type {\n",
       "        vertical-align: middle;\n",
       "    }\n",
       "\n",
       "    .dataframe tbody tr th {\n",
       "        vertical-align: top;\n",
       "    }\n",
       "\n",
       "    .dataframe thead th {\n",
       "        text-align: right;\n",
       "    }\n",
       "</style>\n",
       "<table border=\"1\" class=\"dataframe\">\n",
       "  <thead>\n",
       "    <tr style=\"text-align: right;\">\n",
       "      <th></th>\n",
       "      <th>count</th>\n",
       "      <th>mean</th>\n",
       "      <th>std</th>\n",
       "      <th>min</th>\n",
       "      <th>25%</th>\n",
       "      <th>50%</th>\n",
       "      <th>75%</th>\n",
       "      <th>max</th>\n",
       "    </tr>\n",
       "    <tr>\n",
       "      <th>type</th>\n",
       "      <th></th>\n",
       "      <th></th>\n",
       "      <th></th>\n",
       "      <th></th>\n",
       "      <th></th>\n",
       "      <th></th>\n",
       "      <th></th>\n",
       "      <th></th>\n",
       "    </tr>\n",
       "  </thead>\n",
       "  <tbody>\n",
       "    <tr>\n",
       "      <td>Public district</td>\n",
       "      <td>4107</td>\n",
       "      <td>67824</td>\n",
       "      <td>32140</td>\n",
       "      <td>0</td>\n",
       "      <td>47170</td>\n",
       "      <td>59580</td>\n",
       "      <td>83459</td>\n",
       "      <td>250000</td>\n",
       "    </tr>\n",
       "    <tr>\n",
       "      <td>Public charter</td>\n",
       "      <td>243</td>\n",
       "      <td>45364</td>\n",
       "      <td>20954</td>\n",
       "      <td>0</td>\n",
       "      <td>31307</td>\n",
       "      <td>42012</td>\n",
       "      <td>54349</td>\n",
       "      <td>126107</td>\n",
       "    </tr>\n",
       "  </tbody>\n",
       "</table>\n",
       "</div>"
      ],
      "text/plain": [
       "                 count   mean    std  min    25%    50%    75%     max\n",
       "type                                                                  \n",
       "Public district   4107  67824  32140    0  47170  59580  83459  250000\n",
       "Public charter     243  45364  20954    0  31307  42012  54349  126107"
      ]
     },
     "execution_count": 48,
     "metadata": {},
     "output_type": "execute_result"
    }
   ],
   "source": [
    "# Income summary for all charter and public schools\n",
    "g_type['income_per_household'].describe().astype(int).sort_values('mean', ascending=False)"
   ]
  },
  {
   "cell_type": "markdown",
   "metadata": {},
   "source": [
    "The average and income per household for residents in zip codes with public district schools was more than \\\\$22,000 higher than average income per household of residents in zip codes with public charter schools. The difference between median incomes per household is \\\\$17,000."
   ]
  },
  {
   "cell_type": "markdown",
   "metadata": {},
   "source": [
    " "
   ]
  },
  {
   "cell_type": "code",
   "execution_count": 49,
   "metadata": {},
   "outputs": [
    {
     "data": {
      "text/html": [
       "<div>\n",
       "<style scoped>\n",
       "    .dataframe tbody tr th:only-of-type {\n",
       "        vertical-align: middle;\n",
       "    }\n",
       "\n",
       "    .dataframe tbody tr th {\n",
       "        vertical-align: top;\n",
       "    }\n",
       "\n",
       "    .dataframe thead th {\n",
       "        text-align: right;\n",
       "    }\n",
       "</style>\n",
       "<table border=\"1\" class=\"dataframe\">\n",
       "  <thead>\n",
       "    <tr style=\"text-align: right;\">\n",
       "      <th></th>\n",
       "      <th>count</th>\n",
       "      <th>mean</th>\n",
       "      <th>std</th>\n",
       "      <th>min</th>\n",
       "      <th>25%</th>\n",
       "      <th>50%</th>\n",
       "      <th>75%</th>\n",
       "      <th>max</th>\n",
       "    </tr>\n",
       "    <tr>\n",
       "      <th>is_nyc</th>\n",
       "      <th></th>\n",
       "      <th></th>\n",
       "      <th></th>\n",
       "      <th></th>\n",
       "      <th></th>\n",
       "      <th></th>\n",
       "      <th></th>\n",
       "      <th></th>\n",
       "    </tr>\n",
       "  </thead>\n",
       "  <tbody>\n",
       "    <tr>\n",
       "      <td>not_nyc</td>\n",
       "      <td>2673</td>\n",
       "      <td>73146</td>\n",
       "      <td>32605</td>\n",
       "      <td>0</td>\n",
       "      <td>50551</td>\n",
       "      <td>64107</td>\n",
       "      <td>92682</td>\n",
       "      <td>250000</td>\n",
       "    </tr>\n",
       "    <tr>\n",
       "      <td>nyc</td>\n",
       "      <td>1677</td>\n",
       "      <td>56087</td>\n",
       "      <td>28096</td>\n",
       "      <td>0</td>\n",
       "      <td>35449</td>\n",
       "      <td>49906</td>\n",
       "      <td>66220</td>\n",
       "      <td>250000</td>\n",
       "    </tr>\n",
       "  </tbody>\n",
       "</table>\n",
       "</div>"
      ],
      "text/plain": [
       "         count   mean    std  min    25%    50%    75%     max\n",
       "is_nyc                                                        \n",
       "not_nyc   2673  73146  32605    0  50551  64107  92682  250000\n",
       "nyc       1677  56087  28096    0  35449  49906  66220  250000"
      ]
     },
     "execution_count": 49,
     "metadata": {},
     "output_type": "execute_result"
    }
   ],
   "source": [
    "# Income summary for all schools in NYC vs not in NYC\n",
    "g_is_nyc['income_per_household'].describe().astype(int).sort_values('mean', ascending=False)"
   ]
  },
  {
   "cell_type": "markdown",
   "metadata": {},
   "source": [
    "Residents living in zip codes outside of NYC have a higher average and median income per household than residents in zip codes in NYC."
   ]
  },
  {
   "cell_type": "markdown",
   "metadata": {},
   "source": [
    " "
   ]
  },
  {
   "cell_type": "code",
   "execution_count": 50,
   "metadata": {},
   "outputs": [
    {
     "data": {
      "text/html": [
       "<div>\n",
       "<style scoped>\n",
       "    .dataframe tbody tr th:only-of-type {\n",
       "        vertical-align: middle;\n",
       "    }\n",
       "\n",
       "    .dataframe tbody tr th {\n",
       "        vertical-align: top;\n",
       "    }\n",
       "\n",
       "    .dataframe thead th {\n",
       "        text-align: right;\n",
       "    }\n",
       "</style>\n",
       "<table border=\"1\" class=\"dataframe\">\n",
       "  <thead>\n",
       "    <tr style=\"text-align: right;\">\n",
       "      <th></th>\n",
       "      <th></th>\n",
       "      <th>count</th>\n",
       "      <th>mean</th>\n",
       "      <th>std</th>\n",
       "      <th>min</th>\n",
       "      <th>25%</th>\n",
       "      <th>50%</th>\n",
       "      <th>75%</th>\n",
       "      <th>max</th>\n",
       "    </tr>\n",
       "    <tr>\n",
       "      <th>type</th>\n",
       "      <th>is_nyc</th>\n",
       "      <th></th>\n",
       "      <th></th>\n",
       "      <th></th>\n",
       "      <th></th>\n",
       "      <th></th>\n",
       "      <th></th>\n",
       "      <th></th>\n",
       "      <th></th>\n",
       "    </tr>\n",
       "  </thead>\n",
       "  <tbody>\n",
       "    <tr>\n",
       "      <td rowspan=\"2\" valign=\"top\">Public district</td>\n",
       "      <td>not_nyc</td>\n",
       "      <td>2625</td>\n",
       "      <td>73756</td>\n",
       "      <td>32534</td>\n",
       "      <td>0</td>\n",
       "      <td>50775</td>\n",
       "      <td>64645</td>\n",
       "      <td>93033</td>\n",
       "      <td>250000</td>\n",
       "    </tr>\n",
       "    <tr>\n",
       "      <td>nyc</td>\n",
       "      <td>1482</td>\n",
       "      <td>57318</td>\n",
       "      <td>28563</td>\n",
       "      <td>0</td>\n",
       "      <td>35449</td>\n",
       "      <td>51269</td>\n",
       "      <td>68460</td>\n",
       "      <td>250000</td>\n",
       "    </tr>\n",
       "    <tr>\n",
       "      <td rowspan=\"2\" valign=\"top\">Public charter</td>\n",
       "      <td>nyc</td>\n",
       "      <td>195</td>\n",
       "      <td>46727</td>\n",
       "      <td>22173</td>\n",
       "      <td>0</td>\n",
       "      <td>30973</td>\n",
       "      <td>45536</td>\n",
       "      <td>54349</td>\n",
       "      <td>126107</td>\n",
       "    </tr>\n",
       "    <tr>\n",
       "      <td>not_nyc</td>\n",
       "      <td>48</td>\n",
       "      <td>39826</td>\n",
       "      <td>13870</td>\n",
       "      <td>0</td>\n",
       "      <td>31376</td>\n",
       "      <td>37291</td>\n",
       "      <td>47650</td>\n",
       "      <td>79232</td>\n",
       "    </tr>\n",
       "  </tbody>\n",
       "</table>\n",
       "</div>"
      ],
      "text/plain": [
       "                         count   mean    std  min    25%    50%    75%     max\n",
       "type            is_nyc                                                        \n",
       "Public district not_nyc   2625  73756  32534    0  50775  64645  93033  250000\n",
       "                nyc       1482  57318  28563    0  35449  51269  68460  250000\n",
       "Public charter  nyc        195  46727  22173    0  30973  45536  54349  126107\n",
       "                not_nyc     48  39826  13870    0  31376  37291  47650   79232"
      ]
     },
     "execution_count": 50,
     "metadata": {},
     "output_type": "execute_result"
    }
   ],
   "source": [
    "# Income summary for charters and district in NYC and not in NYC\n",
    "g_type_is_nyc['income_per_household'].describe().astype(int).sort_values('mean', ascending=False)"
   ]
  },
  {
   "cell_type": "markdown",
   "metadata": {},
   "source": [
    "The table above shows that public district schools, by and large, serve more affluent, more rural students than do public charter schools. Public charter schools tend to serve lower income studetns. The plot below provides more detail."
   ]
  },
  {
   "cell_type": "markdown",
   "metadata": {},
   "source": [
    "### Income per Household by Charter and District,  by NYC and Non-NYC "
   ]
  },
  {
   "cell_type": "code",
   "execution_count": 57,
   "metadata": {},
   "outputs": [
    {
     "data": {
      "text/plain": [
       "<matplotlib.axes._subplots.AxesSubplot at 0x1a20f49890>"
      ]
     },
     "execution_count": 57,
     "metadata": {},
     "output_type": "execute_result"
    },
    {
     "data": {
      "image/png": "[encoded data removed]",
      "text/plain": [
       "<Figure size 432x288 with 1 Axes>"
      ]
     },
     "metadata": {},
     "output_type": "display_data"
    }
   ],
   "source": [
    "gs_income_demo.groupby(['is_nyc','type']).mean()['income_per_household'].unstack().plot.bar()"
   ]
  },
  {
   "cell_type": "markdown",
   "metadata": {},
   "source": [
    " "
   ]
  },
  {
   "cell_type": "markdown",
   "metadata": {},
   "source": [
    "### Simple Analysis of Demographics by Groups"
   ]
  },
  {
   "cell_type": "code",
   "execution_count": 51,
   "metadata": {},
   "outputs": [
    {
     "data": {
      "text/html": [
       "<div>\n",
       "<style scoped>\n",
       "    .dataframe tbody tr th:only-of-type {\n",
       "        vertical-align: middle;\n",
       "    }\n",
       "\n",
       "    .dataframe tbody tr th {\n",
       "        vertical-align: top;\n",
       "    }\n",
       "\n",
       "    .dataframe thead th {\n",
       "        text-align: right;\n",
       "    }\n",
       "</style>\n",
       "<table border=\"1\" class=\"dataframe\">\n",
       "  <thead>\n",
       "    <tr style=\"text-align: right;\">\n",
       "      <th></th>\n",
       "      <th>count</th>\n",
       "      <th>mean</th>\n",
       "      <th>std</th>\n",
       "      <th>min</th>\n",
       "      <th>25%</th>\n",
       "      <th>50%</th>\n",
       "      <th>75%</th>\n",
       "      <th>max</th>\n",
       "    </tr>\n",
       "    <tr>\n",
       "      <th>type</th>\n",
       "      <th></th>\n",
       "      <th></th>\n",
       "      <th></th>\n",
       "      <th></th>\n",
       "      <th></th>\n",
       "      <th></th>\n",
       "      <th></th>\n",
       "      <th></th>\n",
       "    </tr>\n",
       "  </thead>\n",
       "  <tbody>\n",
       "    <tr>\n",
       "      <td>Public charter</td>\n",
       "      <td>240.0</td>\n",
       "      <td>0.440704</td>\n",
       "      <td>0.255015</td>\n",
       "      <td>0.010188</td>\n",
       "      <td>0.253951</td>\n",
       "      <td>0.434735</td>\n",
       "      <td>0.621592</td>\n",
       "      <td>0.943925</td>\n",
       "    </tr>\n",
       "    <tr>\n",
       "      <td>Public district</td>\n",
       "      <td>4104.0</td>\n",
       "      <td>0.170967</td>\n",
       "      <td>0.230282</td>\n",
       "      <td>0.000000</td>\n",
       "      <td>0.019689</td>\n",
       "      <td>0.058968</td>\n",
       "      <td>0.251912</td>\n",
       "      <td>0.953115</td>\n",
       "    </tr>\n",
       "  </tbody>\n",
       "</table>\n",
       "</div>"
      ],
      "text/plain": [
       "                  count      mean       std       min       25%       50%  \\\n",
       "type                                                                        \n",
       "Public charter    240.0  0.440704  0.255015  0.010188  0.253951  0.434735   \n",
       "Public district  4104.0  0.170967  0.230282  0.000000  0.019689  0.058968   \n",
       "\n",
       "                      75%       max  \n",
       "type                                 \n",
       "Public charter   0.621592  0.943925  \n",
       "Public district  0.251912  0.953115  "
      ]
     },
     "execution_count": 51,
     "metadata": {},
     "output_type": "execute_result"
    }
   ],
   "source": [
    "# Demographic summary for all charter and public schools\n",
    "g_type['per_african_american'].describe().sort_values('mean', ascending=False)"
   ]
  },
  {
   "cell_type": "markdown",
   "metadata": {},
   "source": [
    "Zip codes with charter schools have communities with higher average and median percentages of residents that identify as African American. The median percent African American of communities served by public charter schools is 43\\%, and the median percent African American of communities served by public district schools is just under 6\\%."
   ]
  },
  {
   "cell_type": "markdown",
   "metadata": {},
   "source": [
    " "
   ]
  },
  {
   "cell_type": "code",
   "execution_count": 52,
   "metadata": {},
   "outputs": [
    {
     "data": {
      "text/html": [
       "<div>\n",
       "<style scoped>\n",
       "    .dataframe tbody tr th:only-of-type {\n",
       "        vertical-align: middle;\n",
       "    }\n",
       "\n",
       "    .dataframe tbody tr th {\n",
       "        vertical-align: top;\n",
       "    }\n",
       "\n",
       "    .dataframe thead th {\n",
       "        text-align: right;\n",
       "    }\n",
       "</style>\n",
       "<table border=\"1\" class=\"dataframe\">\n",
       "  <thead>\n",
       "    <tr style=\"text-align: right;\">\n",
       "      <th></th>\n",
       "      <th>count</th>\n",
       "      <th>mean</th>\n",
       "      <th>std</th>\n",
       "      <th>min</th>\n",
       "      <th>25%</th>\n",
       "      <th>50%</th>\n",
       "      <th>75%</th>\n",
       "      <th>max</th>\n",
       "    </tr>\n",
       "    <tr>\n",
       "      <th>is_nyc</th>\n",
       "      <th></th>\n",
       "      <th></th>\n",
       "      <th></th>\n",
       "      <th></th>\n",
       "      <th></th>\n",
       "      <th></th>\n",
       "      <th></th>\n",
       "      <th></th>\n",
       "    </tr>\n",
       "  </thead>\n",
       "  <tbody>\n",
       "    <tr>\n",
       "      <td>nyc</td>\n",
       "      <td>1674.0</td>\n",
       "      <td>0.338984</td>\n",
       "      <td>0.278550</td>\n",
       "      <td>0.008261</td>\n",
       "      <td>0.089506</td>\n",
       "      <td>0.301125</td>\n",
       "      <td>0.507694</td>\n",
       "      <td>0.953115</td>\n",
       "    </tr>\n",
       "    <tr>\n",
       "      <td>not_nyc</td>\n",
       "      <td>2670.0</td>\n",
       "      <td>0.089872</td>\n",
       "      <td>0.144802</td>\n",
       "      <td>0.000000</td>\n",
       "      <td>0.013926</td>\n",
       "      <td>0.031938</td>\n",
       "      <td>0.089095</td>\n",
       "      <td>0.887807</td>\n",
       "    </tr>\n",
       "  </tbody>\n",
       "</table>\n",
       "</div>"
      ],
      "text/plain": [
       "          count      mean       std       min       25%       50%       75%  \\\n",
       "is_nyc                                                                        \n",
       "nyc      1674.0  0.338984  0.278550  0.008261  0.089506  0.301125  0.507694   \n",
       "not_nyc  2670.0  0.089872  0.144802  0.000000  0.013926  0.031938  0.089095   \n",
       "\n",
       "              max  \n",
       "is_nyc             \n",
       "nyc      0.953115  \n",
       "not_nyc  0.887807  "
      ]
     },
     "execution_count": 52,
     "metadata": {},
     "output_type": "execute_result"
    }
   ],
   "source": [
    "# Demographic summary for all schools in NYC vs not in NYC\n",
    "g_is_nyc['per_african_american'].describe().sort_values('mean', ascending=False)"
   ]
  },
  {
   "cell_type": "markdown",
   "metadata": {},
   "source": [
    "Zip codes with schools in NYC had larger African American populations as a percentage of the total population than do zip codes with schools outside of NYC."
   ]
  },
  {
   "cell_type": "markdown",
   "metadata": {},
   "source": [
    " "
   ]
  },
  {
   "cell_type": "code",
   "execution_count": 53,
   "metadata": {},
   "outputs": [
    {
     "data": {
      "text/html": [
       "<div>\n",
       "<style scoped>\n",
       "    .dataframe tbody tr th:only-of-type {\n",
       "        vertical-align: middle;\n",
       "    }\n",
       "\n",
       "    .dataframe tbody tr th {\n",
       "        vertical-align: top;\n",
       "    }\n",
       "\n",
       "    .dataframe thead th {\n",
       "        text-align: right;\n",
       "    }\n",
       "</style>\n",
       "<table border=\"1\" class=\"dataframe\">\n",
       "  <thead>\n",
       "    <tr style=\"text-align: right;\">\n",
       "      <th></th>\n",
       "      <th></th>\n",
       "      <th>count</th>\n",
       "      <th>mean</th>\n",
       "      <th>std</th>\n",
       "      <th>min</th>\n",
       "      <th>25%</th>\n",
       "      <th>50%</th>\n",
       "      <th>75%</th>\n",
       "      <th>max</th>\n",
       "    </tr>\n",
       "    <tr>\n",
       "      <th>type</th>\n",
       "      <th>is_nyc</th>\n",
       "      <th></th>\n",
       "      <th></th>\n",
       "      <th></th>\n",
       "      <th></th>\n",
       "      <th></th>\n",
       "      <th></th>\n",
       "      <th></th>\n",
       "      <th></th>\n",
       "    </tr>\n",
       "  </thead>\n",
       "  <tbody>\n",
       "    <tr>\n",
       "      <td rowspan=\"2\" valign=\"top\">Public charter</td>\n",
       "      <td>nyc</td>\n",
       "      <td>193.0</td>\n",
       "      <td>0.447902</td>\n",
       "      <td>0.258814</td>\n",
       "      <td>0.010188</td>\n",
       "      <td>0.301125</td>\n",
       "      <td>0.434735</td>\n",
       "      <td>0.621592</td>\n",
       "      <td>0.943925</td>\n",
       "    </tr>\n",
       "    <tr>\n",
       "      <td>not_nyc</td>\n",
       "      <td>47.0</td>\n",
       "      <td>0.411142</td>\n",
       "      <td>0.239138</td>\n",
       "      <td>0.044227</td>\n",
       "      <td>0.202959</td>\n",
       "      <td>0.395348</td>\n",
       "      <td>0.598066</td>\n",
       "      <td>0.825246</td>\n",
       "    </tr>\n",
       "    <tr>\n",
       "      <td rowspan=\"2\" valign=\"top\">Public district</td>\n",
       "      <td>nyc</td>\n",
       "      <td>1481.0</td>\n",
       "      <td>0.324790</td>\n",
       "      <td>0.277975</td>\n",
       "      <td>0.008261</td>\n",
       "      <td>0.067254</td>\n",
       "      <td>0.285513</td>\n",
       "      <td>0.500990</td>\n",
       "      <td>0.953115</td>\n",
       "    </tr>\n",
       "    <tr>\n",
       "      <td>not_nyc</td>\n",
       "      <td>2623.0</td>\n",
       "      <td>0.084115</td>\n",
       "      <td>0.135856</td>\n",
       "      <td>0.000000</td>\n",
       "      <td>0.013881</td>\n",
       "      <td>0.030012</td>\n",
       "      <td>0.083397</td>\n",
       "      <td>0.887807</td>\n",
       "    </tr>\n",
       "  </tbody>\n",
       "</table>\n",
       "</div>"
      ],
      "text/plain": [
       "                          count      mean       std       min       25%  \\\n",
       "type            is_nyc                                                    \n",
       "Public charter  nyc       193.0  0.447902  0.258814  0.010188  0.301125   \n",
       "                not_nyc    47.0  0.411142  0.239138  0.044227  0.202959   \n",
       "Public district nyc      1481.0  0.324790  0.277975  0.008261  0.067254   \n",
       "                not_nyc  2623.0  0.084115  0.135856  0.000000  0.013881   \n",
       "\n",
       "                              50%       75%       max  \n",
       "type            is_nyc                                 \n",
       "Public charter  nyc      0.434735  0.621592  0.943925  \n",
       "                not_nyc  0.395348  0.598066  0.825246  \n",
       "Public district nyc      0.285513  0.500990  0.953115  \n",
       "                not_nyc  0.030012  0.083397  0.887807  "
      ]
     },
     "execution_count": 53,
     "metadata": {},
     "output_type": "execute_result"
    }
   ],
   "source": [
    "# Demographic summary for charters and district in NYC and not in NYC\n",
    "g_type_is_nyc['per_african_american'].describe().sort_values('mean', ascending=False)"
   ]
  },
  {
   "cell_type": "markdown",
   "metadata": {},
   "source": [
    "Overall, public charter schools serve communities that have higher population densities of African Americans than do public distric schools. See the graph below for more information."
   ]
  },
  {
   "cell_type": "markdown",
   "metadata": {},
   "source": [
    "### Demographics by Charter and District, by NYC and Non-NYC"
   ]
  },
  {
   "cell_type": "code",
   "execution_count": 58,
   "metadata": {},
   "outputs": [
    {
     "data": {
      "text/plain": [
       "<matplotlib.axes._subplots.AxesSubplot at 0x1a210be4d0>"
      ]
     },
     "execution_count": 58,
     "metadata": {},
     "output_type": "execute_result"
    },
    {
     "data": {
      "image/png": "[encoded data removed]",
      "text/plain": [
       "<Figure size 432x288 with 1 Axes>"
      ]
     },
     "metadata": {},
     "output_type": "display_data"
    }
   ],
   "source": [
    "gs_income_demo.groupby(['is_nyc','type']).mean()['per_african_american'].unstack().plot.bar()"
   ]
  },
  {
   "cell_type": "markdown",
   "metadata": {},
   "source": [
    "# Conclusion"
   ]
  },
  {
   "cell_type": "markdown",
   "metadata": {},
   "source": [
    "Below is a short summary of the conclusions I've drawn from my analysis:\n",
    "\n",
    "- Based on my analysis, it appears that GreatSchools' ratings are, for the most part, normally distributed.\n",
    "\n",
    "- There is a moderate positive correlation between income and school ratings. This is not surprising as the achievement gap correlates to levels of wealth. The more affluent a zip code, the more likely that the schools in that zip code are higher performing than schools in a zip code that is less wealthy.\n",
    "\n",
    "- The achievement gap based on income also shows itself in GreatSchools' ratings when you look at the data through the lens of race. The percent of a zip code's population that identifies as African Amercian is negatively correlated, to the quality of schools in that zip code (-0.37 Pearson correlation). Conversely, the percent of a zip code's population that identifies as White is positively correlated to the quality of schools in that zip code (0.29 Pearson correlation). These conclusions speak to structural problems within our society and shed no new light on the achievement gap.\n",
    "\n",
    "- The findings that are most interesting to me are the differences in ratings for charter and district schools when viewed through the lenses of income and race. If you are a student in a high performing school in an affluent district, you likely attend a district school. However, if you're a student in a high performing school in a low-income zip code, you're likely to attend a charter school. And, if you live in a zip code with a population that is 20% or higher African American, the only high quality schools are likely to be charter schools.\n",
    "\n",
    "- When I dug deeper into the outcomes produced by and the communities served by public district and public charter schools, I found evidence that charter schools perform better than district schools and that charter schools serve lower income zip codes and less white communities than do district schools. This evidence is relevant the current discourse on charter school expansion.\n",
    "\n",
    "- A political debate over which type of school serves studnets best, district or charter, has been going on for over a decade. Legislation that imposes new caps on the number of charter schools was recently signed by Governor Cuomo. Education advocates on both the right and left argue that charter schools take funding from district schools without producing substantively different student outcomes. While a much more detailed analysis that looks at more than simple demographic factors and ratings given to schools by a ratings website is needed to understand whether or not charter schools are better or worse than district schools, my analysis suggests that charter schools are serving a vital function in low-income communities and African American communities. Normal district schools in these zip codes are rated much lower that charter schools in these zip codes, and any legistation that seeks to curb their expansion seems to limit the opportunities for students that need them the most. Furthermore, there is evidence to suggest that the outcomes produced by charter schools are better than the outcomes produced by district schools, especially when these charter schools serve low-income and communities of color in NYC.\n",
    "\n",
    "Lastly, I want to remind anyone who has made it this far that all of the analysis above is built on the assumption that the ratings assigned by GreatSchools are valid and relevant. While the conversation about the validity of GreatSchools' ratings is inherently political, there is a clear verdict about the relevancy of the site. Because the site gets a significant amount of traffic – reportedly 43 million unique visitors in 2018 [(source)](https://chalkbeat.org/posts/us/2019/12/05/greatschools-ratings-poverty-race-segregation-housing/) – the public has collectively decided that the site's ratings matter. Until education officials can do a more effective job of assessing school quality and communicating this information to the public, GreatSchools ratings will continue to have an influence over where parents send their childrent to school."
   ]
  },
  {
   "cell_type": "code",
   "execution_count": null,
   "metadata": {},
   "outputs": [],
   "source": []
  }
 ],
 "metadata": {
  "kernelspec": {
   "display_name": "Python 3",
   "language": "python",
   "name": "python3"
  },
  "language_info": {
   "codemirror_mode": {
    "name": "ipython",
    "version": 3
   },
   "file_extension": ".py",
   "mimetype": "text/x-python",
   "name": "python",
   "nbconvert_exporter": "python",
   "pygments_lexer": "ipython3",
   "version": "3.7.4"
  }
 },
 "nbformat": 4,
 "nbformat_minor": 2
}
