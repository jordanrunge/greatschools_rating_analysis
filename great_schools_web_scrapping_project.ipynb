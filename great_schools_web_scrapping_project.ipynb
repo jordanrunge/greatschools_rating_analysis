{
 "cells": [
  {
   "cell_type": "code",
   "execution_count": 1,
   "metadata": {},
   "outputs": [],
   "source": [
    "import numpy as np\n",
    "import pandas as pd\n",
    "import seaborn as sns\n",
    "from matplotlib import pyplot as plt\n",
    "import re\n",
    "plt.style.use('ggplot')"
   ]
  },
  {
   "cell_type": "markdown",
   "metadata": {},
   "source": [
    "# Acquisition"
   ]
  },
  {
   "cell_type": "markdown",
   "metadata": {},
   "source": [
    "## GreatSchools"
   ]
  },
  {
   "cell_type": "code",
   "execution_count": 6,
   "metadata": {
    "scrolled": true
   },
   "outputs": [],
   "source": [
    "# Uncomment the code below to run the scraper\n",
    "\n",
    "# from selenium import webdriver\n",
    "# from selenium.webdriver.common.by import By\n",
    "# from selenium.webdriver.support.ui import WebDriverWait\n",
    "# from selenium.webdriver.support import expected_conditions as EC\n",
    "# import csv\n",
    "# import re\n",
    "# import time\n",
    "\n",
    "\n",
    "# # establish a connection with chrome via my terminal\n",
    "# driver = webdriver.Chrome()\n",
    "\n",
    "# # go to greatschools.org\n",
    "# driver.get(\"https://www.greatschools.org/new-york/schools/?page=1\")\n",
    "\n",
    "# csv_file = open('great_schools_nys.csv', 'w', encoding='utf-8', newline='')\n",
    "# writer = csv.writer(csv_file)\n",
    "# # wait because the site is slow\n",
    "# # wait_loading = WebDriverWait(driver, 10)\n",
    "\n",
    "# # loop through all pages, there are 589\n",
    "# index = 1\n",
    "# while index < 590:\n",
    "#     try:\n",
    "#         print('\\n')\n",
    "#         print(\"Scraping Page number \" + str(index))\n",
    "#         print(\"+\"*48)\n",
    "#         index += 1\n",
    "       \n",
    "#         wait_rating = WebDriverWait(driver, 30)\n",
    "#         ratings = wait_rating.until(EC.presence_of_all_elements_located((By.XPATH,'//ol/li[@class=\" unsaved\"]')))\n",
    "        \n",
    "        \n",
    "#         for rating in ratings:\n",
    "#             rating_dict = {}\n",
    "#             time.sleep(1)\n",
    "\n",
    "#             try: \n",
    "#                 gs_rating = rating.find_element_by_xpath('.//*[contains(@class, \"circle-rating\")]').text\n",
    "#                 print(gs_rating)\n",
    "#             except:\n",
    "#                 gs_rating = rating.find_element_by_xpath('.//*[contains(@alt, \"Owl \")]').text\n",
    "#                 print(gs_rating)\n",
    "            \n",
    "#             try:\n",
    "#                 school_name = rating.find_element_by_xpath('.//a[@class=\"name\"]').text\n",
    "#                 print(school_name)\n",
    "#             except:\n",
    "#                 continue\n",
    "\n",
    "#             try:\n",
    "#                 school_address = rating.find_element_by_xpath('.//div[@class=\"address\"]').text\n",
    "#                 print(school_address)\n",
    "#             except:\n",
    "#                 continue\n",
    "\n",
    "#             try:\n",
    "#                 type_and_grades = rating.find_element_by_xpath('.//div/span[@class=\"open-sans_sb\"]').text\n",
    "#                 print(type_and_grades)\n",
    "#             except:\n",
    "#                 continue\n",
    "\n",
    "#             try:\n",
    "#                 total_students = rating.find_element_by_xpath('.//span/span[@class=\"open-sans_sb\"]').text\n",
    "#                 print(total_students)\n",
    "#                 print(\"-\"*12)\n",
    "#             except:\n",
    "#                 continue   \n",
    "            \n",
    "#             rating_dict['gs_rating'] = gs_rating\n",
    "#             rating_dict['school_name'] = school_name\n",
    "#             rating_dict['school_address'] = school_address\n",
    "#             rating_dict['type_and_grades'] = type_and_grades\n",
    "#             rating_dict['total_students'] = total_students\n",
    "\n",
    "#             writer.writerow(rating_dict.values())\n",
    "\n",
    "#          # need to scroll to the bottom of the page because the button is not in the current view yet.\n",
    "#         driver.execute_script(\"window.scrollTo(0, document.body.scrollHeight);\")\n",
    "#         time.sleep(.5)\n",
    "        \n",
    "#         wait_next = WebDriverWait(driver, 10)\n",
    "#         next_page = wait_next.until(EC.element_to_be_clickable((By.XPATH,'//*[contains(@class, \"anchor-button   anchor-button\")][last()]')))\n",
    "#         next_page.click()\n",
    "#         time.sleep(1)\n",
    "\n",
    "#     except Exception as e:\n",
    "#         print(e)\n",
    "#         csv_file.close()\n",
    "#         driver.close()\n",
    "#         break\n",
    "\n"
   ]
  },
  {
   "cell_type": "markdown",
   "metadata": {},
   "source": [
    "## Income Data"
   ]
  },
  {
   "cell_type": "code",
   "execution_count": null,
   "metadata": {},
   "outputs": [],
   "source": []
  },
  {
   "cell_type": "markdown",
   "metadata": {},
   "source": [
    "# Inspection & Cleaning"
   ]
  },
  {
   "cell_type": "code",
   "execution_count": null,
   "metadata": {},
   "outputs": [],
   "source": []
  }
 ],
 "metadata": {
  "kernelspec": {
   "display_name": "Python 3",
   "language": "python",
   "name": "python3"
  },
  "language_info": {
   "codemirror_mode": {
    "name": "ipython",
    "version": 3
   },
   "file_extension": ".py",
   "mimetype": "text/x-python",
   "name": "python",
   "nbconvert_exporter": "python",
   "pygments_lexer": "ipython3",
   "version": "3.7.4"
  }
 },
 "nbformat": 4,
 "nbformat_minor": 2
}
