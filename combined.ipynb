{
 "cells": [
  {
   "cell_type": "code",
   "execution_count": 1,
   "metadata": {},
   "outputs": [],
   "source": [
    "import numpy as np\n",
    "import pandas as pd"
   ]
  },
  {
   "cell_type": "markdown",
   "metadata": {},
   "source": [
    "- df.head()\n",
    "- df.sample()\n",
    "- df.sample().sort_index()\n",
    "- df.nunique()\n",
    "- df.shape\n",
    "- df.columns.tolist()\n",
    "- df.dtype\n",
    "- df.isna().sum()"
   ]
  },
  {
   "cell_type": "code",
   "execution_count": 2,
   "metadata": {},
   "outputs": [],
   "source": [
    "gs_nys = pd.read_csv('great_schools_nys_cleaned1.csv')\n",
    "income_nys = pd.read_csv('income_nys.csv')"
   ]
  },
  {
   "cell_type": "code",
   "execution_count": 5,
   "metadata": {},
   "outputs": [
    {
     "data": {
      "text/plain": [
       "['Unnamed: 0', 'school', 'rating', 'type', 'students', 'grades', 'city', 'zip']"
      ]
     },
     "execution_count": 5,
     "metadata": {},
     "output_type": "execute_result"
    }
   ],
   "source": [
    "gs_nys.columns.tolist()"
   ]
  },
  {
   "cell_type": "code",
   "execution_count": 6,
   "metadata": {},
   "outputs": [],
   "source": [
    "gs_nys = gs_nys.drop(['Unnamed: 0'], axis=1)"
   ]
  },
  {
   "cell_type": "code",
   "execution_count": 7,
   "metadata": {},
   "outputs": [
    {
     "data": {
      "text/html": [
       "<div>\n",
       "<style scoped>\n",
       "    .dataframe tbody tr th:only-of-type {\n",
       "        vertical-align: middle;\n",
       "    }\n",
       "\n",
       "    .dataframe tbody tr th {\n",
       "        vertical-align: top;\n",
       "    }\n",
       "\n",
       "    .dataframe thead th {\n",
       "        text-align: right;\n",
       "    }\n",
       "</style>\n",
       "<table border=\"1\" class=\"dataframe\">\n",
       "  <thead>\n",
       "    <tr style=\"text-align: right;\">\n",
       "      <th></th>\n",
       "      <th>school</th>\n",
       "      <th>rating</th>\n",
       "      <th>type</th>\n",
       "      <th>students</th>\n",
       "      <th>grades</th>\n",
       "      <th>city</th>\n",
       "      <th>zip</th>\n",
       "    </tr>\n",
       "  </thead>\n",
       "  <tbody>\n",
       "    <tr>\n",
       "      <td>0</td>\n",
       "      <td>Garden City High School</td>\n",
       "      <td>10</td>\n",
       "      <td>Public district</td>\n",
       "      <td>1,165</td>\n",
       "      <td>9-12</td>\n",
       "      <td>Garden City</td>\n",
       "      <td>11530</td>\n",
       "    </tr>\n",
       "    <tr>\n",
       "      <td>1</td>\n",
       "      <td>Saddle Rock School</td>\n",
       "      <td>10</td>\n",
       "      <td>Public district</td>\n",
       "      <td>558</td>\n",
       "      <td>K-5</td>\n",
       "      <td>Great Neck</td>\n",
       "      <td>11023</td>\n",
       "    </tr>\n",
       "    <tr>\n",
       "      <td>2</td>\n",
       "      <td>Purchase School</td>\n",
       "      <td>10</td>\n",
       "      <td>Public district</td>\n",
       "      <td>315</td>\n",
       "      <td>K-5</td>\n",
       "      <td>Harrison</td>\n",
       "      <td>10577</td>\n",
       "    </tr>\n",
       "    <tr>\n",
       "      <td>3</td>\n",
       "      <td>Center Street School</td>\n",
       "      <td>10</td>\n",
       "      <td>Public district</td>\n",
       "      <td>489</td>\n",
       "      <td>K-5</td>\n",
       "      <td>Williston Park</td>\n",
       "      <td>11596</td>\n",
       "    </tr>\n",
       "    <tr>\n",
       "      <td>4</td>\n",
       "      <td>Briarwood School</td>\n",
       "      <td>10</td>\n",
       "      <td>Public district</td>\n",
       "      <td>170</td>\n",
       "      <td>K-3</td>\n",
       "      <td>Irondequoit</td>\n",
       "      <td>14617</td>\n",
       "    </tr>\n",
       "  </tbody>\n",
       "</table>\n",
       "</div>"
      ],
      "text/plain": [
       "                    school  rating             type students grades  \\\n",
       "0  Garden City High School      10  Public district    1,165   9-12   \n",
       "1       Saddle Rock School      10  Public district      558    K-5   \n",
       "2          Purchase School      10  Public district      315    K-5   \n",
       "3     Center Street School      10  Public district      489    K-5   \n",
       "4         Briarwood School      10  Public district      170    K-3   \n",
       "\n",
       "              city     zip  \n",
       "0      Garden City   11530  \n",
       "1       Great Neck   11023  \n",
       "2         Harrison   10577  \n",
       "3   Williston Park   11596  \n",
       "4      Irondequoit   14617  "
      ]
     },
     "execution_count": 7,
     "metadata": {},
     "output_type": "execute_result"
    }
   ],
   "source": [
    "gs_nys.head()"
   ]
  },
  {
   "cell_type": "code",
   "execution_count": 17,
   "metadata": {},
   "outputs": [
    {
     "data": {
      "text/plain": [
       "dtype('O')"
      ]
     },
     "execution_count": 17,
     "metadata": {},
     "output_type": "execute_result"
    }
   ],
   "source": [
    "gs_nys['zip'].dtype"
   ]
  },
  {
   "cell_type": "code",
   "execution_count": 25,
   "metadata": {},
   "outputs": [],
   "source": [
    "gs_nys['zip'] = gs_nys['zip'].str.strip()"
   ]
  },
  {
   "cell_type": "code",
   "execution_count": 39,
   "metadata": {},
   "outputs": [
    {
     "data": {
      "text/html": [
       "<div>\n",
       "<style scoped>\n",
       "    .dataframe tbody tr th:only-of-type {\n",
       "        vertical-align: middle;\n",
       "    }\n",
       "\n",
       "    .dataframe tbody tr th {\n",
       "        vertical-align: top;\n",
       "    }\n",
       "\n",
       "    .dataframe thead th {\n",
       "        text-align: right;\n",
       "    }\n",
       "</style>\n",
       "<table border=\"1\" class=\"dataframe\">\n",
       "  <thead>\n",
       "    <tr style=\"text-align: right;\">\n",
       "      <th></th>\n",
       "      <th>school</th>\n",
       "      <th>rating</th>\n",
       "      <th>type</th>\n",
       "      <th>students</th>\n",
       "      <th>grades</th>\n",
       "      <th>city</th>\n",
       "      <th>zip</th>\n",
       "    </tr>\n",
       "  </thead>\n",
       "  <tbody>\n",
       "    <tr>\n",
       "      <td>907</td>\n",
       "      <td>Ps 295</td>\n",
       "      <td>7</td>\n",
       "      <td>Public district</td>\n",
       "      <td>497</td>\n",
       "      <td>PK-5</td>\n",
       "      <td>Brooklyn NY 11215</td>\n",
       "      <td>NY</td>\n",
       "    </tr>\n",
       "    <tr>\n",
       "      <td>1170</td>\n",
       "      <td>Grand Concourse Academy Charter School</td>\n",
       "      <td>7</td>\n",
       "      <td>Public charter</td>\n",
       "      <td>562</td>\n",
       "      <td>K-8</td>\n",
       "      <td>Bronx</td>\n",
       "      <td>NY</td>\n",
       "    </tr>\n",
       "    <tr>\n",
       "      <td>2466</td>\n",
       "      <td>La Cima Charter School</td>\n",
       "      <td>5</td>\n",
       "      <td>Public charter</td>\n",
       "      <td>360</td>\n",
       "      <td>K-5</td>\n",
       "      <td>3rd Floor</td>\n",
       "      <td>NY</td>\n",
       "    </tr>\n",
       "    <tr>\n",
       "      <td>2476</td>\n",
       "      <td>Invictus Preparatory Charter School</td>\n",
       "      <td>5</td>\n",
       "      <td>Public charter</td>\n",
       "      <td>260</td>\n",
       "      <td>5-8</td>\n",
       "      <td>3rd Floor</td>\n",
       "      <td>NY</td>\n",
       "    </tr>\n",
       "  </tbody>\n",
       "</table>\n",
       "</div>"
      ],
      "text/plain": [
       "                                      school  rating             type  \\\n",
       "907                                   Ps 295       7  Public district   \n",
       "1170  Grand Concourse Academy Charter School       7   Public charter   \n",
       "2466                  La Cima Charter School       5   Public charter   \n",
       "2476     Invictus Preparatory Charter School       5   Public charter   \n",
       "\n",
       "     students grades                city zip  \n",
       "907       497   PK-5   Brooklyn NY 11215  NY  \n",
       "1170      562    K-8              Bronx   NY  \n",
       "2466      360    K-5           3rd Floor  NY  \n",
       "2476      260    5-8           3rd Floor  NY  "
      ]
     },
     "execution_count": 39,
     "metadata": {},
     "output_type": "execute_result"
    }
   ],
   "source": [
    "gs_nys[gs_nys['zip']  == \"NY\"]"
   ]
  },
  {
   "cell_type": "code",
   "execution_count": 52,
   "metadata": {},
   "outputs": [
    {
     "name": "stderr",
     "output_type": "stream",
     "text": [
      "/opt/anaconda3/lib/python3.7/site-packages/ipykernel_launcher.py:1: SettingWithCopyWarning: \n",
      "A value is trying to be set on a copy of a slice from a DataFrame\n",
      "\n",
      "See the caveats in the documentation: http://pandas.pydata.org/pandas-docs/stable/user_guide/indexing.html#returning-a-view-versus-a-copy\n",
      "  \"\"\"Entry point for launching an IPython kernel.\n",
      "/opt/anaconda3/lib/python3.7/site-packages/ipykernel_launcher.py:2: SettingWithCopyWarning: \n",
      "A value is trying to be set on a copy of a slice from a DataFrame\n",
      "\n",
      "See the caveats in the documentation: http://pandas.pydata.org/pandas-docs/stable/user_guide/indexing.html#returning-a-view-versus-a-copy\n",
      "  \n",
      "/opt/anaconda3/lib/python3.7/site-packages/ipykernel_launcher.py:3: SettingWithCopyWarning: \n",
      "A value is trying to be set on a copy of a slice from a DataFrame\n",
      "\n",
      "See the caveats in the documentation: http://pandas.pydata.org/pandas-docs/stable/user_guide/indexing.html#returning-a-view-versus-a-copy\n",
      "  This is separate from the ipykernel package so we can avoid doing imports until\n",
      "/opt/anaconda3/lib/python3.7/site-packages/ipykernel_launcher.py:4: SettingWithCopyWarning: \n",
      "A value is trying to be set on a copy of a slice from a DataFrame\n",
      "\n",
      "See the caveats in the documentation: http://pandas.pydata.org/pandas-docs/stable/user_guide/indexing.html#returning-a-view-versus-a-copy\n",
      "  after removing the cwd from sys.path.\n"
     ]
    }
   ],
   "source": [
    "gs_nys['zip'][907]=11215\n",
    "gs_nys['zip'][1170]=10465\n",
    "gs_nys['zip'][2466]=11221\n",
    "gs_nys['zip'][2476]=11208"
   ]
  },
  {
   "cell_type": "code",
   "execution_count": 53,
   "metadata": {},
   "outputs": [
    {
     "data": {
      "text/html": [
       "<div>\n",
       "<style scoped>\n",
       "    .dataframe tbody tr th:only-of-type {\n",
       "        vertical-align: middle;\n",
       "    }\n",
       "\n",
       "    .dataframe tbody tr th {\n",
       "        vertical-align: top;\n",
       "    }\n",
       "\n",
       "    .dataframe thead th {\n",
       "        text-align: right;\n",
       "    }\n",
       "</style>\n",
       "<table border=\"1\" class=\"dataframe\">\n",
       "  <thead>\n",
       "    <tr style=\"text-align: right;\">\n",
       "      <th></th>\n",
       "      <th>school</th>\n",
       "      <th>rating</th>\n",
       "      <th>type</th>\n",
       "      <th>students</th>\n",
       "      <th>grades</th>\n",
       "      <th>city</th>\n",
       "      <th>zip</th>\n",
       "    </tr>\n",
       "  </thead>\n",
       "  <tbody>\n",
       "  </tbody>\n",
       "</table>\n",
       "</div>"
      ],
      "text/plain": [
       "Empty DataFrame\n",
       "Columns: [school, rating, type, students, grades, city, zip]\n",
       "Index: []"
      ]
     },
     "execution_count": 53,
     "metadata": {},
     "output_type": "execute_result"
    }
   ],
   "source": [
    "gs_nys[gs_nys['zip']  == \"NY\"]"
   ]
  },
  {
   "cell_type": "code",
   "execution_count": 57,
   "metadata": {},
   "outputs": [
    {
     "data": {
      "text/html": [
       "<div>\n",
       "<style scoped>\n",
       "    .dataframe tbody tr th:only-of-type {\n",
       "        vertical-align: middle;\n",
       "    }\n",
       "\n",
       "    .dataframe tbody tr th {\n",
       "        vertical-align: top;\n",
       "    }\n",
       "\n",
       "    .dataframe thead th {\n",
       "        text-align: right;\n",
       "    }\n",
       "</style>\n",
       "<table border=\"1\" class=\"dataframe\">\n",
       "  <thead>\n",
       "    <tr style=\"text-align: right;\">\n",
       "      <th></th>\n",
       "      <th>school</th>\n",
       "      <th>rating</th>\n",
       "      <th>type</th>\n",
       "      <th>students</th>\n",
       "      <th>grades</th>\n",
       "      <th>city</th>\n",
       "      <th>zip</th>\n",
       "    </tr>\n",
       "  </thead>\n",
       "  <tbody>\n",
       "    <tr>\n",
       "      <td>1778</td>\n",
       "      <td>International Leadership Charter School</td>\n",
       "      <td>6</td>\n",
       "      <td>Public charter</td>\n",
       "      <td>400</td>\n",
       "      <td>9-12</td>\n",
       "      <td>Bronx</td>\n",
       "      <td>Bronx</td>\n",
       "    </tr>\n",
       "    <tr>\n",
       "      <td>2483</td>\n",
       "      <td>Boys Prep Bronx Elementary School</td>\n",
       "      <td>5</td>\n",
       "      <td>Public charter</td>\n",
       "      <td>336</td>\n",
       "      <td>PK-4</td>\n",
       "      <td>Bronx</td>\n",
       "      <td>Bronx</td>\n",
       "    </tr>\n",
       "  </tbody>\n",
       "</table>\n",
       "</div>"
      ],
      "text/plain": [
       "                                       school  rating            type  \\\n",
       "1778  International Leadership Charter School       6  Public charter   \n",
       "2483        Boys Prep Bronx Elementary School       5  Public charter   \n",
       "\n",
       "     students grades    city    zip  \n",
       "1778      400   9-12   Bronx  Bronx  \n",
       "2483      336   PK-4   Bronx  Bronx  "
      ]
     },
     "execution_count": 57,
     "metadata": {},
     "output_type": "execute_result"
    }
   ],
   "source": [
    "gs_nys[gs_nys['zip']  == \"Bronx\"]"
   ]
  },
  {
   "cell_type": "code",
   "execution_count": 58,
   "metadata": {},
   "outputs": [
    {
     "name": "stderr",
     "output_type": "stream",
     "text": [
      "/opt/anaconda3/lib/python3.7/site-packages/ipykernel_launcher.py:1: SettingWithCopyWarning: \n",
      "A value is trying to be set on a copy of a slice from a DataFrame\n",
      "\n",
      "See the caveats in the documentation: http://pandas.pydata.org/pandas-docs/stable/user_guide/indexing.html#returning-a-view-versus-a-copy\n",
      "  \"\"\"Entry point for launching an IPython kernel.\n",
      "/opt/anaconda3/lib/python3.7/site-packages/ipykernel_launcher.py:2: SettingWithCopyWarning: \n",
      "A value is trying to be set on a copy of a slice from a DataFrame\n",
      "\n",
      "See the caveats in the documentation: http://pandas.pydata.org/pandas-docs/stable/user_guide/indexing.html#returning-a-view-versus-a-copy\n",
      "  \n"
     ]
    }
   ],
   "source": [
    "gs_nys['zip'][1778]=10463\n",
    "gs_nys['zip'][2483]=10451"
   ]
  },
  {
   "cell_type": "code",
   "execution_count": 59,
   "metadata": {},
   "outputs": [
    {
     "data": {
      "text/html": [
       "<div>\n",
       "<style scoped>\n",
       "    .dataframe tbody tr th:only-of-type {\n",
       "        vertical-align: middle;\n",
       "    }\n",
       "\n",
       "    .dataframe tbody tr th {\n",
       "        vertical-align: top;\n",
       "    }\n",
       "\n",
       "    .dataframe thead th {\n",
       "        text-align: right;\n",
       "    }\n",
       "</style>\n",
       "<table border=\"1\" class=\"dataframe\">\n",
       "  <thead>\n",
       "    <tr style=\"text-align: right;\">\n",
       "      <th></th>\n",
       "      <th>school</th>\n",
       "      <th>rating</th>\n",
       "      <th>type</th>\n",
       "      <th>students</th>\n",
       "      <th>grades</th>\n",
       "      <th>city</th>\n",
       "      <th>zip</th>\n",
       "    </tr>\n",
       "  </thead>\n",
       "  <tbody>\n",
       "  </tbody>\n",
       "</table>\n",
       "</div>"
      ],
      "text/plain": [
       "Empty DataFrame\n",
       "Columns: [school, rating, type, students, grades, city, zip]\n",
       "Index: []"
      ]
     },
     "execution_count": 59,
     "metadata": {},
     "output_type": "execute_result"
    }
   ],
   "source": [
    "gs_nys[gs_nys['zip']  == \"Bronx\"]"
   ]
  },
  {
   "cell_type": "code",
   "execution_count": 60,
   "metadata": {},
   "outputs": [
    {
     "data": {
      "text/plain": [
       "0       11530\n",
       "1       11023\n",
       "2       10577\n",
       "3       11596\n",
       "4       14617\n",
       "        ...  \n",
       "4346    14215\n",
       "4347    14207\n",
       "4348    10570\n",
       "4349    10522\n",
       "4350    14901\n",
       "Name: zip, Length: 4351, dtype: int64"
      ]
     },
     "execution_count": 60,
     "metadata": {},
     "output_type": "execute_result"
    }
   ],
   "source": [
    "gs_nys['zip'].astype('int')"
   ]
  },
  {
   "cell_type": "code",
   "execution_count": 9,
   "metadata": {},
   "outputs": [],
   "source": [
    "income_nys = income_nys.drop(['Unnamed: 0'], axis=1)"
   ]
  },
  {
   "cell_type": "code",
   "execution_count": 10,
   "metadata": {},
   "outputs": [
    {
     "data": {
      "text/html": [
       "<div>\n",
       "<style scoped>\n",
       "    .dataframe tbody tr th:only-of-type {\n",
       "        vertical-align: middle;\n",
       "    }\n",
       "\n",
       "    .dataframe tbody tr th {\n",
       "        vertical-align: top;\n",
       "    }\n",
       "\n",
       "    .dataframe thead th {\n",
       "        text-align: right;\n",
       "    }\n",
       "</style>\n",
       "<table border=\"1\" class=\"dataframe\">\n",
       "  <thead>\n",
       "    <tr style=\"text-align: right;\">\n",
       "      <th></th>\n",
       "      <th>state</th>\n",
       "      <th>zipcode</th>\n",
       "      <th>returns</th>\n",
       "      <th>single_returns</th>\n",
       "      <th>joint_returns</th>\n",
       "      <th>hoh_returns</th>\n",
       "      <th>agi</th>\n",
       "      <th>total_income</th>\n",
       "      <th>educator_expense_amount</th>\n",
       "      <th>returns_itemized</th>\n",
       "      <th>charitable_contributions</th>\n",
       "    </tr>\n",
       "  </thead>\n",
       "  <tbody>\n",
       "    <tr>\n",
       "      <td>0</td>\n",
       "      <td>NY</td>\n",
       "      <td>0</td>\n",
       "      <td>9580270.0</td>\n",
       "      <td>4940030.0</td>\n",
       "      <td>2950010.0</td>\n",
       "      <td>1479490.0</td>\n",
       "      <td>852298824.0</td>\n",
       "      <td>863210313.0</td>\n",
       "      <td>73091.0</td>\n",
       "      <td>3424170.0</td>\n",
       "      <td>18715647.0</td>\n",
       "    </tr>\n",
       "    <tr>\n",
       "      <td>1</td>\n",
       "      <td>NY</td>\n",
       "      <td>10001</td>\n",
       "      <td>15340.0</td>\n",
       "      <td>11080.0</td>\n",
       "      <td>2700.0</td>\n",
       "      <td>1170.0</td>\n",
       "      <td>2785807.0</td>\n",
       "      <td>2820411.0</td>\n",
       "      <td>46.0</td>\n",
       "      <td>8190.0</td>\n",
       "      <td>55721.0</td>\n",
       "    </tr>\n",
       "    <tr>\n",
       "      <td>2</td>\n",
       "      <td>NY</td>\n",
       "      <td>10002</td>\n",
       "      <td>42290.0</td>\n",
       "      <td>25770.0</td>\n",
       "      <td>10170.0</td>\n",
       "      <td>5480.0</td>\n",
       "      <td>2489499.0</td>\n",
       "      <td>2523419.0</td>\n",
       "      <td>118.0</td>\n",
       "      <td>10390.0</td>\n",
       "      <td>32728.0</td>\n",
       "    </tr>\n",
       "    <tr>\n",
       "      <td>3</td>\n",
       "      <td>NY</td>\n",
       "      <td>10003</td>\n",
       "      <td>28950.0</td>\n",
       "      <td>22020.0</td>\n",
       "      <td>5340.0</td>\n",
       "      <td>870.0</td>\n",
       "      <td>8764798.0</td>\n",
       "      <td>8866747.0</td>\n",
       "      <td>81.0</td>\n",
       "      <td>18060.0</td>\n",
       "      <td>362239.0</td>\n",
       "    </tr>\n",
       "    <tr>\n",
       "      <td>4</td>\n",
       "      <td>NY</td>\n",
       "      <td>10004</td>\n",
       "      <td>2450.0</td>\n",
       "      <td>1440.0</td>\n",
       "      <td>790.0</td>\n",
       "      <td>140.0</td>\n",
       "      <td>931468.0</td>\n",
       "      <td>943900.0</td>\n",
       "      <td>0.0</td>\n",
       "      <td>1690.0</td>\n",
       "      <td>18710.0</td>\n",
       "    </tr>\n",
       "  </tbody>\n",
       "</table>\n",
       "</div>"
      ],
      "text/plain": [
       "  state  zipcode    returns  single_returns  joint_returns  hoh_returns  \\\n",
       "0    NY        0  9580270.0       4940030.0      2950010.0    1479490.0   \n",
       "1    NY    10001    15340.0         11080.0         2700.0       1170.0   \n",
       "2    NY    10002    42290.0         25770.0        10170.0       5480.0   \n",
       "3    NY    10003    28950.0         22020.0         5340.0        870.0   \n",
       "4    NY    10004     2450.0          1440.0          790.0        140.0   \n",
       "\n",
       "           agi  total_income  educator_expense_amount  returns_itemized  \\\n",
       "0  852298824.0   863210313.0                  73091.0         3424170.0   \n",
       "1    2785807.0     2820411.0                     46.0            8190.0   \n",
       "2    2489499.0     2523419.0                    118.0           10390.0   \n",
       "3    8764798.0     8866747.0                     81.0           18060.0   \n",
       "4     931468.0      943900.0                      0.0            1690.0   \n",
       "\n",
       "   charitable_contributions  \n",
       "0                18715647.0  \n",
       "1                   55721.0  \n",
       "2                   32728.0  \n",
       "3                  362239.0  \n",
       "4                   18710.0  "
      ]
     },
     "execution_count": 10,
     "metadata": {},
     "output_type": "execute_result"
    }
   ],
   "source": [
    "income_nys.head()"
   ]
  },
  {
   "cell_type": "code",
   "execution_count": 74,
   "metadata": {},
   "outputs": [],
   "source": [
    "gs_nys['zip'] = gs_nys['zip'].astype('int')"
   ]
  },
  {
   "cell_type": "code",
   "execution_count": 75,
   "metadata": {},
   "outputs": [
    {
     "data": {
      "text/plain": [
       "dtype('int64')"
      ]
     },
     "execution_count": 75,
     "metadata": {},
     "output_type": "execute_result"
    }
   ],
   "source": [
    "gs_nys['zip'].dtype"
   ]
  },
  {
   "cell_type": "code",
   "execution_count": 76,
   "metadata": {},
   "outputs": [
    {
     "data": {
      "text/plain": [
       "dtype('int64')"
      ]
     },
     "execution_count": 76,
     "metadata": {},
     "output_type": "execute_result"
    }
   ],
   "source": [
    "income_nys['zipcode'].dtype"
   ]
  },
  {
   "cell_type": "markdown",
   "metadata": {},
   "source": [
    "## Checkpoint ^^\n",
    "- Had to do a bit more clean up on GS dataset\n",
    "- Below will try to merge GS and income data"
   ]
  },
  {
   "cell_type": "code",
   "execution_count": 80,
   "metadata": {},
   "outputs": [],
   "source": [
    "gs_income = pd.merge(gs_nys, income_nys, how='left', left_on='zip', right_on='zipcode')"
   ]
  },
  {
   "cell_type": "code",
   "execution_count": 81,
   "metadata": {},
   "outputs": [
    {
     "data": {
      "text/plain": [
       "school                      4299\n",
       "rating                        10\n",
       "type                           2\n",
       "students                    1197\n",
       "grades                        69\n",
       "city                         804\n",
       "zip                         1039\n",
       "state                          1\n",
       "zipcode                     1023\n",
       "returns                      759\n",
       "single_returns               609\n",
       "joint_returns                514\n",
       "hoh_returns                  341\n",
       "agi                         1023\n",
       "total_income                1023\n",
       "educator_expense_amount      238\n",
       "returns_itemized             538\n",
       "charitable_contributions     979\n",
       "dtype: int64"
      ]
     },
     "execution_count": 81,
     "metadata": {},
     "output_type": "execute_result"
    }
   ],
   "source": [
    "gs_income.nunique()"
   ]
  },
  {
   "cell_type": "code",
   "execution_count": 84,
   "metadata": {},
   "outputs": [
    {
     "data": {
      "text/html": [
       "<div>\n",
       "<style scoped>\n",
       "    .dataframe tbody tr th:only-of-type {\n",
       "        vertical-align: middle;\n",
       "    }\n",
       "\n",
       "    .dataframe tbody tr th {\n",
       "        vertical-align: top;\n",
       "    }\n",
       "\n",
       "    .dataframe thead th {\n",
       "        text-align: right;\n",
       "    }\n",
       "</style>\n",
       "<table border=\"1\" class=\"dataframe\">\n",
       "  <thead>\n",
       "    <tr style=\"text-align: right;\">\n",
       "      <th></th>\n",
       "      <th>school</th>\n",
       "      <th>rating</th>\n",
       "      <th>type</th>\n",
       "      <th>students</th>\n",
       "      <th>grades</th>\n",
       "      <th>city</th>\n",
       "      <th>zip</th>\n",
       "      <th>state</th>\n",
       "      <th>zipcode</th>\n",
       "      <th>returns</th>\n",
       "      <th>single_returns</th>\n",
       "      <th>joint_returns</th>\n",
       "      <th>hoh_returns</th>\n",
       "      <th>agi</th>\n",
       "      <th>total_income</th>\n",
       "      <th>educator_expense_amount</th>\n",
       "      <th>returns_itemized</th>\n",
       "      <th>charitable_contributions</th>\n",
       "    </tr>\n",
       "  </thead>\n",
       "  <tbody>\n",
       "    <tr>\n",
       "      <td>883</td>\n",
       "      <td>Ps 8 Robert Fulton</td>\n",
       "      <td>7</td>\n",
       "      <td>Public district</td>\n",
       "      <td>916</td>\n",
       "      <td>K-8</td>\n",
       "      <td>Brooklyn</td>\n",
       "      <td>11201</td>\n",
       "      <td>NY</td>\n",
       "      <td>11201.0</td>\n",
       "      <td>33550.0</td>\n",
       "      <td>20950.0</td>\n",
       "      <td>9290.0</td>\n",
       "      <td>2350.0</td>\n",
       "      <td>6976637.0</td>\n",
       "      <td>7085009.0</td>\n",
       "      <td>155.0</td>\n",
       "      <td>20650.0</td>\n",
       "      <td>112414.0</td>\n",
       "    </tr>\n",
       "    <tr>\n",
       "      <td>1158</td>\n",
       "      <td>Ps Is 208</td>\n",
       "      <td>7</td>\n",
       "      <td>Public district</td>\n",
       "      <td>706</td>\n",
       "      <td>K-8</td>\n",
       "      <td>Queens</td>\n",
       "      <td>11426</td>\n",
       "      <td>NY</td>\n",
       "      <td>11426.0</td>\n",
       "      <td>9280.0</td>\n",
       "      <td>4370.0</td>\n",
       "      <td>3720.0</td>\n",
       "      <td>960.0</td>\n",
       "      <td>599764.0</td>\n",
       "      <td>605551.0</td>\n",
       "      <td>83.0</td>\n",
       "      <td>3960.0</td>\n",
       "      <td>9852.0</td>\n",
       "    </tr>\n",
       "    <tr>\n",
       "      <td>1273</td>\n",
       "      <td>Matthew Paterson Elementary School</td>\n",
       "      <td>7</td>\n",
       "      <td>Public district</td>\n",
       "      <td>496</td>\n",
       "      <td>K-4</td>\n",
       "      <td>Patterson</td>\n",
       "      <td>12563</td>\n",
       "      <td>NY</td>\n",
       "      <td>12563.0</td>\n",
       "      <td>3630.0</td>\n",
       "      <td>1700.0</td>\n",
       "      <td>1520.0</td>\n",
       "      <td>340.0</td>\n",
       "      <td>281047.0</td>\n",
       "      <td>284722.0</td>\n",
       "      <td>42.0</td>\n",
       "      <td>1670.0</td>\n",
       "      <td>4266.0</td>\n",
       "    </tr>\n",
       "    <tr>\n",
       "      <td>2082</td>\n",
       "      <td>Moriah Elementary School</td>\n",
       "      <td>5</td>\n",
       "      <td>Public district</td>\n",
       "      <td>400</td>\n",
       "      <td>PK-6</td>\n",
       "      <td>Port Henry</td>\n",
       "      <td>12974</td>\n",
       "      <td>NY</td>\n",
       "      <td>12974.0</td>\n",
       "      <td>650.0</td>\n",
       "      <td>310.0</td>\n",
       "      <td>230.0</td>\n",
       "      <td>90.0</td>\n",
       "      <td>28955.0</td>\n",
       "      <td>29106.0</td>\n",
       "      <td>0.0</td>\n",
       "      <td>100.0</td>\n",
       "      <td>94.0</td>\n",
       "    </tr>\n",
       "    <tr>\n",
       "      <td>2448</td>\n",
       "      <td>Yorkville Community School</td>\n",
       "      <td>5</td>\n",
       "      <td>Public district</td>\n",
       "      <td>513</td>\n",
       "      <td>PK-5</td>\n",
       "      <td>New York</td>\n",
       "      <td>10128</td>\n",
       "      <td>NY</td>\n",
       "      <td>10128.0</td>\n",
       "      <td>33300.0</td>\n",
       "      <td>20900.0</td>\n",
       "      <td>9500.0</td>\n",
       "      <td>1850.0</td>\n",
       "      <td>12783790.0</td>\n",
       "      <td>12952497.0</td>\n",
       "      <td>185.0</td>\n",
       "      <td>20200.0</td>\n",
       "      <td>375425.0</td>\n",
       "    </tr>\n",
       "    <tr>\n",
       "      <td>2739</td>\n",
       "      <td>Edward R Andrews Elementary School</td>\n",
       "      <td>4</td>\n",
       "      <td>Public district</td>\n",
       "      <td>303</td>\n",
       "      <td>PK-5</td>\n",
       "      <td>Hamilton</td>\n",
       "      <td>13346</td>\n",
       "      <td>NY</td>\n",
       "      <td>13346.0</td>\n",
       "      <td>1920.0</td>\n",
       "      <td>940.0</td>\n",
       "      <td>790.0</td>\n",
       "      <td>130.0</td>\n",
       "      <td>153888.0</td>\n",
       "      <td>156808.0</td>\n",
       "      <td>17.0</td>\n",
       "      <td>740.0</td>\n",
       "      <td>3201.0</td>\n",
       "    </tr>\n",
       "    <tr>\n",
       "      <td>2877</td>\n",
       "      <td>Ps 7 Abraham Lincoln</td>\n",
       "      <td>4</td>\n",
       "      <td>Public district</td>\n",
       "      <td>877</td>\n",
       "      <td>PK-5</td>\n",
       "      <td>Brooklyn</td>\n",
       "      <td>11208</td>\n",
       "      <td>NY</td>\n",
       "      <td>11208.0</td>\n",
       "      <td>44930.0</td>\n",
       "      <td>21070.0</td>\n",
       "      <td>7490.0</td>\n",
       "      <td>15670.0</td>\n",
       "      <td>1482501.0</td>\n",
       "      <td>1492997.0</td>\n",
       "      <td>123.0</td>\n",
       "      <td>9370.0</td>\n",
       "      <td>23644.0</td>\n",
       "    </tr>\n",
       "    <tr>\n",
       "      <td>2917</td>\n",
       "      <td>Pakanasink Elementary School</td>\n",
       "      <td>4</td>\n",
       "      <td>Public district</td>\n",
       "      <td>496</td>\n",
       "      <td>PK-5</td>\n",
       "      <td>Circleville</td>\n",
       "      <td>10919</td>\n",
       "      <td>NY</td>\n",
       "      <td>10919.0</td>\n",
       "      <td>610.0</td>\n",
       "      <td>290.0</td>\n",
       "      <td>260.0</td>\n",
       "      <td>70.0</td>\n",
       "      <td>45728.0</td>\n",
       "      <td>46228.0</td>\n",
       "      <td>7.0</td>\n",
       "      <td>280.0</td>\n",
       "      <td>730.0</td>\n",
       "    </tr>\n",
       "    <tr>\n",
       "      <td>3589</td>\n",
       "      <td>Ms 266 Park Place Community Middle School</td>\n",
       "      <td>3</td>\n",
       "      <td>Public district</td>\n",
       "      <td>161</td>\n",
       "      <td>6-8</td>\n",
       "      <td>Brooklyn</td>\n",
       "      <td>11217</td>\n",
       "      <td>NY</td>\n",
       "      <td>11217.0</td>\n",
       "      <td>20720.0</td>\n",
       "      <td>13470.0</td>\n",
       "      <td>4560.0</td>\n",
       "      <td>2170.0</td>\n",
       "      <td>2851362.0</td>\n",
       "      <td>2897328.0</td>\n",
       "      <td>118.0</td>\n",
       "      <td>10700.0</td>\n",
       "      <td>33920.0</td>\n",
       "    </tr>\n",
       "    <tr>\n",
       "      <td>4340</td>\n",
       "      <td>Woodrow Wilson School</td>\n",
       "      <td>1</td>\n",
       "      <td>Public district</td>\n",
       "      <td>433</td>\n",
       "      <td>K-5</td>\n",
       "      <td>Binghamton</td>\n",
       "      <td>13905</td>\n",
       "      <td>NY</td>\n",
       "      <td>13905.0</td>\n",
       "      <td>10720.0</td>\n",
       "      <td>6230.0</td>\n",
       "      <td>2840.0</td>\n",
       "      <td>1420.0</td>\n",
       "      <td>545343.0</td>\n",
       "      <td>553352.0</td>\n",
       "      <td>70.0</td>\n",
       "      <td>2230.0</td>\n",
       "      <td>6569.0</td>\n",
       "    </tr>\n",
       "  </tbody>\n",
       "</table>\n",
       "</div>"
      ],
      "text/plain": [
       "                                         school  rating             type  \\\n",
       "883                          Ps 8 Robert Fulton       7  Public district   \n",
       "1158                                  Ps Is 208       7  Public district   \n",
       "1273         Matthew Paterson Elementary School       7  Public district   \n",
       "2082                   Moriah Elementary School       5  Public district   \n",
       "2448                 Yorkville Community School       5  Public district   \n",
       "2739         Edward R Andrews Elementary School       4  Public district   \n",
       "2877                       Ps 7 Abraham Lincoln       4  Public district   \n",
       "2917               Pakanasink Elementary School       4  Public district   \n",
       "3589  Ms 266 Park Place Community Middle School       3  Public district   \n",
       "4340                      Woodrow Wilson School       1  Public district   \n",
       "\n",
       "     students grades          city    zip state  zipcode  returns  \\\n",
       "883       916    K-8      Brooklyn  11201    NY  11201.0  33550.0   \n",
       "1158      706    K-8        Queens  11426    NY  11426.0   9280.0   \n",
       "1273      496    K-4     Patterson  12563    NY  12563.0   3630.0   \n",
       "2082      400   PK-6    Port Henry  12974    NY  12974.0    650.0   \n",
       "2448      513   PK-5      New York  10128    NY  10128.0  33300.0   \n",
       "2739      303   PK-5      Hamilton  13346    NY  13346.0   1920.0   \n",
       "2877      877   PK-5      Brooklyn  11208    NY  11208.0  44930.0   \n",
       "2917      496   PK-5   Circleville  10919    NY  10919.0    610.0   \n",
       "3589      161    6-8      Brooklyn  11217    NY  11217.0  20720.0   \n",
       "4340      433    K-5    Binghamton  13905    NY  13905.0  10720.0   \n",
       "\n",
       "      single_returns  joint_returns  hoh_returns         agi  total_income  \\\n",
       "883          20950.0         9290.0       2350.0   6976637.0     7085009.0   \n",
       "1158          4370.0         3720.0        960.0    599764.0      605551.0   \n",
       "1273          1700.0         1520.0        340.0    281047.0      284722.0   \n",
       "2082           310.0          230.0         90.0     28955.0       29106.0   \n",
       "2448         20900.0         9500.0       1850.0  12783790.0    12952497.0   \n",
       "2739           940.0          790.0        130.0    153888.0      156808.0   \n",
       "2877         21070.0         7490.0      15670.0   1482501.0     1492997.0   \n",
       "2917           290.0          260.0         70.0     45728.0       46228.0   \n",
       "3589         13470.0         4560.0       2170.0   2851362.0     2897328.0   \n",
       "4340          6230.0         2840.0       1420.0    545343.0      553352.0   \n",
       "\n",
       "      educator_expense_amount  returns_itemized  charitable_contributions  \n",
       "883                     155.0           20650.0                  112414.0  \n",
       "1158                     83.0            3960.0                    9852.0  \n",
       "1273                     42.0            1670.0                    4266.0  \n",
       "2082                      0.0             100.0                      94.0  \n",
       "2448                    185.0           20200.0                  375425.0  \n",
       "2739                     17.0             740.0                    3201.0  \n",
       "2877                    123.0            9370.0                   23644.0  \n",
       "2917                      7.0             280.0                     730.0  \n",
       "3589                    118.0           10700.0                   33920.0  \n",
       "4340                     70.0            2230.0                    6569.0  "
      ]
     },
     "execution_count": 84,
     "metadata": {},
     "output_type": "execute_result"
    }
   ],
   "source": [
    "gs_income.sample(10).sort_index()"
   ]
  },
  {
   "cell_type": "code",
   "execution_count": 85,
   "metadata": {},
   "outputs": [],
   "source": [
    "gs_income.to_csv('gs_income.csv')"
   ]
  },
  {
   "cell_type": "markdown",
   "metadata": {},
   "source": [
    "## Checkpoint\n",
    "### This is the combined dataframe that I'll use for analysis ^^"
   ]
  }
 ],
 "metadata": {
  "kernelspec": {
   "display_name": "Python 3",
   "language": "python",
   "name": "python3"
  },
  "language_info": {
   "codemirror_mode": {
    "name": "ipython",
    "version": 3
   },
   "file_extension": ".py",
   "mimetype": "text/x-python",
   "name": "python",
   "nbconvert_exporter": "python",
   "pygments_lexer": "ipython3",
   "version": "3.7.4"
  }
 },
 "nbformat": 4,
 "nbformat_minor": 2
}
